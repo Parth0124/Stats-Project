{
 "cells": [
  {
   "cell_type": "markdown",
   "metadata": {},
   "source": [
    "## Cleaning demographics.csv dataset\n"
   ]
  },
  {
   "cell_type": "code",
   "execution_count": 8,
   "metadata": {},
   "outputs": [],
   "source": [
    "import pandas as pd\n",
    "import numpy as np\n",
    "import matplotlib.pyplot as plt\n",
    "import seaborn as sns\n",
    "%matplotlib inline"
   ]
  },
  {
   "cell_type": "code",
   "execution_count": 9,
   "metadata": {},
   "outputs": [
    {
     "data": {
      "text/html": [
       "<div>\n",
       "<style scoped>\n",
       "    .dataframe tbody tr th:only-of-type {\n",
       "        vertical-align: middle;\n",
       "    }\n",
       "\n",
       "    .dataframe tbody tr th {\n",
       "        vertical-align: top;\n",
       "    }\n",
       "\n",
       "    .dataframe thead th {\n",
       "        text-align: right;\n",
       "    }\n",
       "</style>\n",
       "<table border=\"1\" class=\"dataframe\">\n",
       "  <thead>\n",
       "    <tr style=\"text-align: right;\">\n",
       "      <th></th>\n",
       "      <th>Year</th>\n",
       "      <th>Territory of asylum or residence</th>\n",
       "      <th>Location Name</th>\n",
       "      <th>Female 0-4</th>\n",
       "      <th>Female 5-11</th>\n",
       "      <th>Female 5-17</th>\n",
       "      <th>Female 12-17</th>\n",
       "      <th>Female 18-59</th>\n",
       "      <th>Female 60+</th>\n",
       "      <th>F: Unknown</th>\n",
       "      <th>F: Total</th>\n",
       "      <th>Male 0-4</th>\n",
       "      <th>Male 5-11</th>\n",
       "      <th>Male 5-17</th>\n",
       "      <th>Male 12-17</th>\n",
       "      <th>Male 18-59</th>\n",
       "      <th>Male 60+</th>\n",
       "      <th>M: Unknown</th>\n",
       "      <th>M: Total</th>\n",
       "    </tr>\n",
       "  </thead>\n",
       "  <tbody>\n",
       "    <tr>\n",
       "      <th>0</th>\n",
       "      <td>2001</td>\n",
       "      <td>Afghanistan</td>\n",
       "      <td>Kabul</td>\n",
       "      <td>0</td>\n",
       "      <td>NaN</td>\n",
       "      <td>1.0</td>\n",
       "      <td>NaN</td>\n",
       "      <td>1</td>\n",
       "      <td>0</td>\n",
       "      <td>0.0</td>\n",
       "      <td>2</td>\n",
       "      <td>0</td>\n",
       "      <td>NaN</td>\n",
       "      <td>0.0</td>\n",
       "      <td>NaN</td>\n",
       "      <td>2</td>\n",
       "      <td>0</td>\n",
       "      <td>0.0</td>\n",
       "      <td>2</td>\n",
       "    </tr>\n",
       "    <tr>\n",
       "      <th>1</th>\n",
       "      <td>2001</td>\n",
       "      <td>Afghanistan</td>\n",
       "      <td>Various</td>\n",
       "      <td>14335</td>\n",
       "      <td>NaN</td>\n",
       "      <td>45451.0</td>\n",
       "      <td>NaN</td>\n",
       "      <td>99880</td>\n",
       "      <td>19234</td>\n",
       "      <td>412004.0</td>\n",
       "      <td>590904</td>\n",
       "      <td>14716</td>\n",
       "      <td>NaN</td>\n",
       "      <td>47522.0</td>\n",
       "      <td>NaN</td>\n",
       "      <td>114965</td>\n",
       "      <td>13025</td>\n",
       "      <td>435492.0</td>\n",
       "      <td>625720</td>\n",
       "    </tr>\n",
       "    <tr>\n",
       "      <th>2</th>\n",
       "      <td>2001</td>\n",
       "      <td>Afghanistan</td>\n",
       "      <td>Herat</td>\n",
       "      <td>0</td>\n",
       "      <td>NaN</td>\n",
       "      <td>0.0</td>\n",
       "      <td>NaN</td>\n",
       "      <td>1</td>\n",
       "      <td>0</td>\n",
       "      <td>0.0</td>\n",
       "      <td>1</td>\n",
       "      <td>0</td>\n",
       "      <td>NaN</td>\n",
       "      <td>0.0</td>\n",
       "      <td>NaN</td>\n",
       "      <td>1</td>\n",
       "      <td>0</td>\n",
       "      <td>0.0</td>\n",
       "      <td>1</td>\n",
       "    </tr>\n",
       "    <tr>\n",
       "      <th>3</th>\n",
       "      <td>2001</td>\n",
       "      <td>Angola</td>\n",
       "      <td>Viana</td>\n",
       "      <td>484</td>\n",
       "      <td>NaN</td>\n",
       "      <td>1687.0</td>\n",
       "      <td>NaN</td>\n",
       "      <td>1282</td>\n",
       "      <td>43</td>\n",
       "      <td>0.0</td>\n",
       "      <td>3496</td>\n",
       "      <td>597</td>\n",
       "      <td>NaN</td>\n",
       "      <td>1645.0</td>\n",
       "      <td>NaN</td>\n",
       "      <td>787</td>\n",
       "      <td>34</td>\n",
       "      <td>0.0</td>\n",
       "      <td>3063</td>\n",
       "    </tr>\n",
       "    <tr>\n",
       "      <th>4</th>\n",
       "      <td>2001</td>\n",
       "      <td>Angola</td>\n",
       "      <td>Moxico</td>\n",
       "      <td>219</td>\n",
       "      <td>NaN</td>\n",
       "      <td>734.0</td>\n",
       "      <td>NaN</td>\n",
       "      <td>427</td>\n",
       "      <td>25</td>\n",
       "      <td>0.0</td>\n",
       "      <td>1405</td>\n",
       "      <td>226</td>\n",
       "      <td>NaN</td>\n",
       "      <td>711.0</td>\n",
       "      <td>NaN</td>\n",
       "      <td>139</td>\n",
       "      <td>15</td>\n",
       "      <td>0.0</td>\n",
       "      <td>1091</td>\n",
       "    </tr>\n",
       "  </tbody>\n",
       "</table>\n",
       "</div>"
      ],
      "text/plain": [
       "   Year Territory of asylum or residence Location Name Female 0-4 Female 5-11  \\\n",
       "0  2001                      Afghanistan         Kabul          0         NaN   \n",
       "1  2001                      Afghanistan       Various      14335         NaN   \n",
       "2  2001                      Afghanistan         Herat          0         NaN   \n",
       "3  2001                           Angola         Viana        484         NaN   \n",
       "4  2001                           Angola        Moxico        219         NaN   \n",
       "\n",
       "   Female 5-17 Female 12-17 Female 18-59 Female 60+  F: Unknown F: Total  \\\n",
       "0          1.0          NaN            1          0         0.0        2   \n",
       "1      45451.0          NaN        99880      19234    412004.0   590904   \n",
       "2          0.0          NaN            1          0         0.0        1   \n",
       "3       1687.0          NaN         1282         43         0.0     3496   \n",
       "4        734.0          NaN          427         25         0.0     1405   \n",
       "\n",
       "  Male 0-4 Male 5-11  Male 5-17 Male 12-17 Male 18-59 Male 60+  M: Unknown  \\\n",
       "0        0       NaN        0.0        NaN          2        0         0.0   \n",
       "1    14716       NaN    47522.0        NaN     114965    13025    435492.0   \n",
       "2        0       NaN        0.0        NaN          1        0         0.0   \n",
       "3      597       NaN     1645.0        NaN        787       34         0.0   \n",
       "4      226       NaN      711.0        NaN        139       15         0.0   \n",
       "\n",
       "  M: Total  \n",
       "0        2  \n",
       "1   625720  \n",
       "2        1  \n",
       "3     3063  \n",
       "4     1091  "
      ]
     },
     "execution_count": 9,
     "metadata": {},
     "output_type": "execute_result"
    }
   ],
   "source": [
    "demographics_df = pd.read_csv('../Stats Dataset Uncleaned/demographics.csv')\n",
    "demographics_df.head()"
   ]
  },
  {
   "cell_type": "code",
   "execution_count": 10,
   "metadata": {},
   "outputs": [
    {
     "data": {
      "text/plain": [
       "Year                                    0\n",
       "Territory of asylum or residence        0\n",
       "Location Name                           1\n",
       "Female 0-4                           1273\n",
       "Female 5-11                          4429\n",
       "Female 5-17                         15160\n",
       "Female 12-17                         4407\n",
       "Female 18-59                          662\n",
       "Female 60+                           1456\n",
       "F: Unknown                           5863\n",
       "F: Total                                0\n",
       "Male 0-4                             1281\n",
       "Male 5-11                            4406\n",
       "Male 5-17                           15160\n",
       "Male 12-17                           4370\n",
       "Male 18-59                            436\n",
       "Male 60+                             1370\n",
       "M: Unknown                           5856\n",
       "M: Total                                0\n",
       "dtype: int64"
      ]
     },
     "execution_count": 10,
     "metadata": {},
     "output_type": "execute_result"
    }
   ],
   "source": [
    "demographics_df.isnull().sum()"
   ]
  },
  {
   "cell_type": "code",
   "execution_count": 11,
   "metadata": {},
   "outputs": [
    {
     "data": {
      "text/plain": [
       "Index(['Year', 'Territory of asylum or residence', 'Location Name',\n",
       "       'Female 0-4', 'Female 5-11', 'Female 5-17', 'Female 12-17',\n",
       "       'Female 18-59', 'Female 60+', 'F: Unknown', 'F: Total', 'Male 0-4',\n",
       "       'Male 5-11', 'Male 5-17', 'Male 12-17', 'Male 18-59', 'Male 60+',\n",
       "       'M: Unknown', 'M: Total'],\n",
       "      dtype='object')"
      ]
     },
     "execution_count": 11,
     "metadata": {},
     "output_type": "execute_result"
    }
   ],
   "source": [
    "demographics_df.columns"
   ]
  },
  {
   "cell_type": "code",
   "execution_count": 17,
   "metadata": {},
   "outputs": [
    {
     "name": "stdout",
     "output_type": "stream",
     "text": [
      "Location Name 0.00545\n",
      "Female 0-4 6.93506\n",
      "Female 5-11 24.12835\n",
      "Female 5-17 82.5888\n",
      "Female 12-17 24.0085\n",
      "Female 18-59 3.60645\n",
      "Female 60+ 7.93201\n",
      "F: Unknown 31.94051\n",
      "Male 0-4 6.97864\n",
      "Male 5-11 24.00305\n",
      "Male 5-17 82.5888\n",
      "Male 12-17 23.80693\n",
      "Male 18-59 2.37525\n",
      "Male 60+ 7.4635\n",
      "M: Unknown 31.90238\n"
     ]
    }
   ],
   "source": [
    "### Finding the percentage of missing values in the data\n",
    "\n",
    "features_with_na = [features for features in demographics_df.columns if demographics_df[features].isnull().sum()>=1]\n",
    "for feature in features_with_na:\n",
    "    print(feature,np.round(demographics_df[feature].isnull().mean()*100,5)), \"% missing values.\""
   ]
  },
  {
   "cell_type": "markdown",
   "metadata": {},
   "source": [
    "### Handling the missing values"
   ]
  },
  {
   "cell_type": "code",
   "execution_count": 23,
   "metadata": {},
   "outputs": [],
   "source": [
    "# Droppedthe column where the location name is null\n",
    "\n",
    "demographics_df = demographics_df.dropna(subset=['Location Name'])"
   ]
  },
  {
   "cell_type": "code",
   "execution_count": 24,
   "metadata": {},
   "outputs": [
    {
     "data": {
      "text/plain": [
       "Year                                    0\n",
       "Territory of asylum or residence        0\n",
       "Location Name                           0\n",
       "Female 0-4                           1273\n",
       "Female 5-11                          4429\n",
       "Female 5-17                         15159\n",
       "Female 12-17                         4407\n",
       "Female 18-59                          662\n",
       "Female 60+                           1456\n",
       "F: Unknown                           5863\n",
       "F: Total                                0\n",
       "Male 0-4                             1281\n",
       "Male 5-11                            4406\n",
       "Male 5-17                           15159\n",
       "Male 12-17                           4370\n",
       "Male 18-59                            436\n",
       "Male 60+                             1370\n",
       "M: Unknown                           5856\n",
       "M: Total                                0\n",
       "dtype: int64"
      ]
     },
     "execution_count": 24,
     "metadata": {},
     "output_type": "execute_result"
    }
   ],
   "source": [
    "demographics_df.isnull().sum()"
   ]
  },
  {
   "cell_type": "code",
   "execution_count": 31,
   "metadata": {},
   "outputs": [
    {
     "data": {
      "text/plain": [
       "Year                                  int64\n",
       "Territory of asylum or residence     object\n",
       "Location Name                        object\n",
       "Female 0-4                           object\n",
       "Female 5-11                          object\n",
       "Female 5-17                         float64\n",
       "Female 12-17                         object\n",
       "Female 18-59                         object\n",
       "Female 60+                           object\n",
       "F: Unknown                          float64\n",
       "F: Total                             object\n",
       "Male 0-4                             object\n",
       "Male 5-11                            object\n",
       "Male 5-17                           float64\n",
       "Male 12-17                           object\n",
       "Male 18-59                           object\n",
       "Male 60+                             object\n",
       "M: Unknown                          float64\n",
       "M: Total                             object\n",
       "dtype: object"
      ]
     },
     "execution_count": 31,
     "metadata": {},
     "output_type": "execute_result"
    }
   ],
   "source": [
    "demographics_df.dtypes"
   ]
  },
  {
   "cell_type": "code",
   "execution_count": 32,
   "metadata": {},
   "outputs": [],
   "source": [
    "# Convert all the numeric features to float\n",
    "\n",
    "columns_to_convert = demographics_df.columns.difference(['Year', 'Territory of asylum or residence', 'Location Name', 'Female 5-17', 'F: Unknown','Male 5-17', 'M: Unknown'])"
   ]
  },
  {
   "cell_type": "code",
   "execution_count": 33,
   "metadata": {},
   "outputs": [
    {
     "data": {
      "text/plain": [
       "Index(['F: Total', 'Female 0-4', 'Female 12-17', 'Female 18-59', 'Female 5-11',\n",
       "       'Female 60+', 'M: Total', 'Male 0-4', 'Male 12-17', 'Male 18-59',\n",
       "       'Male 5-11', 'Male 60+'],\n",
       "      dtype='object')"
      ]
     },
     "execution_count": 33,
     "metadata": {},
     "output_type": "execute_result"
    }
   ],
   "source": [
    "columns_to_convert"
   ]
  },
  {
   "cell_type": "code",
   "execution_count": 34,
   "metadata": {},
   "outputs": [],
   "source": [
    "for column in columns_to_convert:\n",
    "    demographics_df[column] = pd.to_numeric(demographics_df[column], errors='coerce').fillna(0.0).astype(float)"
   ]
  },
  {
   "cell_type": "code",
   "execution_count": 35,
   "metadata": {},
   "outputs": [
    {
     "data": {
      "text/plain": [
       "Year                                  int64\n",
       "Territory of asylum or residence     object\n",
       "Location Name                        object\n",
       "Female 0-4                          float64\n",
       "Female 5-11                         float64\n",
       "Female 5-17                         float64\n",
       "Female 12-17                        float64\n",
       "Female 18-59                        float64\n",
       "Female 60+                          float64\n",
       "F: Unknown                          float64\n",
       "F: Total                            float64\n",
       "Male 0-4                            float64\n",
       "Male 5-11                           float64\n",
       "Male 5-17                           float64\n",
       "Male 12-17                          float64\n",
       "Male 18-59                          float64\n",
       "Male 60+                            float64\n",
       "M: Unknown                          float64\n",
       "M: Total                            float64\n",
       "dtype: object"
      ]
     },
     "execution_count": 35,
     "metadata": {},
     "output_type": "execute_result"
    }
   ],
   "source": [
    "demographics_df.dtypes"
   ]
  },
  {
   "cell_type": "code",
   "execution_count": 36,
   "metadata": {},
   "outputs": [
    {
     "name": "stderr",
     "output_type": "stream",
     "text": [
      "/var/folders/pp/hr12q0qj4x9450xlpzvw9l_m0000gn/T/ipykernel_37509/3629686392.py:1: FutureWarning: A value is trying to be set on a copy of a DataFrame or Series through chained assignment using an inplace method.\n",
      "The behavior will change in pandas 3.0. This inplace method will never work because the intermediate object on which we are setting values always behaves as a copy.\n",
      "\n",
      "For example, when doing 'df[col].method(value, inplace=True)', try using 'df.method({col: value}, inplace=True)' or df[col] = df[col].method(value) instead, to perform the operation inplace on the original object.\n",
      "\n",
      "\n",
      "  demographics_df['Female 0-4'].fillna(demographics_df['Female 0-4'].median(), inplace=True)\n",
      "/var/folders/pp/hr12q0qj4x9450xlpzvw9l_m0000gn/T/ipykernel_37509/3629686392.py:2: FutureWarning: A value is trying to be set on a copy of a DataFrame or Series through chained assignment using an inplace method.\n",
      "The behavior will change in pandas 3.0. This inplace method will never work because the intermediate object on which we are setting values always behaves as a copy.\n",
      "\n",
      "For example, when doing 'df[col].method(value, inplace=True)', try using 'df.method({col: value}, inplace=True)' or df[col] = df[col].method(value) instead, to perform the operation inplace on the original object.\n",
      "\n",
      "\n",
      "  demographics_df['Female 5-11'].fillna(demographics_df['Female 5-11'].median(), inplace=True)\n",
      "/var/folders/pp/hr12q0qj4x9450xlpzvw9l_m0000gn/T/ipykernel_37509/3629686392.py:3: FutureWarning: A value is trying to be set on a copy of a DataFrame or Series through chained assignment using an inplace method.\n",
      "The behavior will change in pandas 3.0. This inplace method will never work because the intermediate object on which we are setting values always behaves as a copy.\n",
      "\n",
      "For example, when doing 'df[col].method(value, inplace=True)', try using 'df.method({col: value}, inplace=True)' or df[col] = df[col].method(value) instead, to perform the operation inplace on the original object.\n",
      "\n",
      "\n",
      "  demographics_df['Female 5-17'].fillna(demographics_df['Female 5-17'].median(), inplace=True)\n",
      "/var/folders/pp/hr12q0qj4x9450xlpzvw9l_m0000gn/T/ipykernel_37509/3629686392.py:4: FutureWarning: A value is trying to be set on a copy of a DataFrame or Series through chained assignment using an inplace method.\n",
      "The behavior will change in pandas 3.0. This inplace method will never work because the intermediate object on which we are setting values always behaves as a copy.\n",
      "\n",
      "For example, when doing 'df[col].method(value, inplace=True)', try using 'df.method({col: value}, inplace=True)' or df[col] = df[col].method(value) instead, to perform the operation inplace on the original object.\n",
      "\n",
      "\n",
      "  demographics_df['Female 12-17'].fillna(demographics_df['Female 12-17'].median(), inplace=True)\n",
      "/var/folders/pp/hr12q0qj4x9450xlpzvw9l_m0000gn/T/ipykernel_37509/3629686392.py:5: FutureWarning: A value is trying to be set on a copy of a DataFrame or Series through chained assignment using an inplace method.\n",
      "The behavior will change in pandas 3.0. This inplace method will never work because the intermediate object on which we are setting values always behaves as a copy.\n",
      "\n",
      "For example, when doing 'df[col].method(value, inplace=True)', try using 'df.method({col: value}, inplace=True)' or df[col] = df[col].method(value) instead, to perform the operation inplace on the original object.\n",
      "\n",
      "\n",
      "  demographics_df['Female 18-59'].fillna(demographics_df['Female 18-59'].median(), inplace=True)\n",
      "/var/folders/pp/hr12q0qj4x9450xlpzvw9l_m0000gn/T/ipykernel_37509/3629686392.py:6: FutureWarning: A value is trying to be set on a copy of a DataFrame or Series through chained assignment using an inplace method.\n",
      "The behavior will change in pandas 3.0. This inplace method will never work because the intermediate object on which we are setting values always behaves as a copy.\n",
      "\n",
      "For example, when doing 'df[col].method(value, inplace=True)', try using 'df.method({col: value}, inplace=True)' or df[col] = df[col].method(value) instead, to perform the operation inplace on the original object.\n",
      "\n",
      "\n",
      "  demographics_df['Female 60+'].fillna(demographics_df['Female 60+'].median(), inplace=True)\n",
      "/var/folders/pp/hr12q0qj4x9450xlpzvw9l_m0000gn/T/ipykernel_37509/3629686392.py:7: FutureWarning: A value is trying to be set on a copy of a DataFrame or Series through chained assignment using an inplace method.\n",
      "The behavior will change in pandas 3.0. This inplace method will never work because the intermediate object on which we are setting values always behaves as a copy.\n",
      "\n",
      "For example, when doing 'df[col].method(value, inplace=True)', try using 'df.method({col: value}, inplace=True)' or df[col] = df[col].method(value) instead, to perform the operation inplace on the original object.\n",
      "\n",
      "\n",
      "  demographics_df['F: Unknown'].fillna(demographics_df['F: Unknown'].median(), inplace=True)\n",
      "/var/folders/pp/hr12q0qj4x9450xlpzvw9l_m0000gn/T/ipykernel_37509/3629686392.py:9: FutureWarning: A value is trying to be set on a copy of a DataFrame or Series through chained assignment using an inplace method.\n",
      "The behavior will change in pandas 3.0. This inplace method will never work because the intermediate object on which we are setting values always behaves as a copy.\n",
      "\n",
      "For example, when doing 'df[col].method(value, inplace=True)', try using 'df.method({col: value}, inplace=True)' or df[col] = df[col].method(value) instead, to perform the operation inplace on the original object.\n",
      "\n",
      "\n",
      "  demographics_df['Male 0-4'].fillna(demographics_df['Male 0-4'].median(), inplace=True)\n",
      "/var/folders/pp/hr12q0qj4x9450xlpzvw9l_m0000gn/T/ipykernel_37509/3629686392.py:10: FutureWarning: A value is trying to be set on a copy of a DataFrame or Series through chained assignment using an inplace method.\n",
      "The behavior will change in pandas 3.0. This inplace method will never work because the intermediate object on which we are setting values always behaves as a copy.\n",
      "\n",
      "For example, when doing 'df[col].method(value, inplace=True)', try using 'df.method({col: value}, inplace=True)' or df[col] = df[col].method(value) instead, to perform the operation inplace on the original object.\n",
      "\n",
      "\n",
      "  demographics_df['Male 5-11'].fillna(demographics_df['Male 5-11'].median(), inplace=True)\n",
      "/var/folders/pp/hr12q0qj4x9450xlpzvw9l_m0000gn/T/ipykernel_37509/3629686392.py:11: FutureWarning: A value is trying to be set on a copy of a DataFrame or Series through chained assignment using an inplace method.\n",
      "The behavior will change in pandas 3.0. This inplace method will never work because the intermediate object on which we are setting values always behaves as a copy.\n",
      "\n",
      "For example, when doing 'df[col].method(value, inplace=True)', try using 'df.method({col: value}, inplace=True)' or df[col] = df[col].method(value) instead, to perform the operation inplace on the original object.\n",
      "\n",
      "\n",
      "  demographics_df['Male 5-17'].fillna(demographics_df['Male 5-17'].median(), inplace=True)\n",
      "/var/folders/pp/hr12q0qj4x9450xlpzvw9l_m0000gn/T/ipykernel_37509/3629686392.py:12: FutureWarning: A value is trying to be set on a copy of a DataFrame or Series through chained assignment using an inplace method.\n",
      "The behavior will change in pandas 3.0. This inplace method will never work because the intermediate object on which we are setting values always behaves as a copy.\n",
      "\n",
      "For example, when doing 'df[col].method(value, inplace=True)', try using 'df.method({col: value}, inplace=True)' or df[col] = df[col].method(value) instead, to perform the operation inplace on the original object.\n",
      "\n",
      "\n",
      "  demographics_df['Male 12-17'].fillna(demographics_df['Male 12-17'].median(), inplace=True)\n",
      "/var/folders/pp/hr12q0qj4x9450xlpzvw9l_m0000gn/T/ipykernel_37509/3629686392.py:13: FutureWarning: A value is trying to be set on a copy of a DataFrame or Series through chained assignment using an inplace method.\n",
      "The behavior will change in pandas 3.0. This inplace method will never work because the intermediate object on which we are setting values always behaves as a copy.\n",
      "\n",
      "For example, when doing 'df[col].method(value, inplace=True)', try using 'df.method({col: value}, inplace=True)' or df[col] = df[col].method(value) instead, to perform the operation inplace on the original object.\n",
      "\n",
      "\n",
      "  demographics_df['Male 18-59'].fillna(demographics_df['Male 18-59'].median(), inplace=True)\n",
      "/var/folders/pp/hr12q0qj4x9450xlpzvw9l_m0000gn/T/ipykernel_37509/3629686392.py:14: FutureWarning: A value is trying to be set on a copy of a DataFrame or Series through chained assignment using an inplace method.\n",
      "The behavior will change in pandas 3.0. This inplace method will never work because the intermediate object on which we are setting values always behaves as a copy.\n",
      "\n",
      "For example, when doing 'df[col].method(value, inplace=True)', try using 'df.method({col: value}, inplace=True)' or df[col] = df[col].method(value) instead, to perform the operation inplace on the original object.\n",
      "\n",
      "\n",
      "  demographics_df['Male 60+'].fillna(demographics_df['Male 60+'].median(), inplace=True)\n",
      "/var/folders/pp/hr12q0qj4x9450xlpzvw9l_m0000gn/T/ipykernel_37509/3629686392.py:15: FutureWarning: A value is trying to be set on a copy of a DataFrame or Series through chained assignment using an inplace method.\n",
      "The behavior will change in pandas 3.0. This inplace method will never work because the intermediate object on which we are setting values always behaves as a copy.\n",
      "\n",
      "For example, when doing 'df[col].method(value, inplace=True)', try using 'df.method({col: value}, inplace=True)' or df[col] = df[col].method(value) instead, to perform the operation inplace on the original object.\n",
      "\n",
      "\n",
      "  demographics_df['M: Unknown'].fillna(demographics_df['M: Unknown'].median(), inplace=True)\n"
     ]
    }
   ],
   "source": [
    "demographics_df['Female 0-4'].fillna(demographics_df['Female 0-4'].median(), inplace=True)\n",
    "demographics_df['Female 5-11'].fillna(demographics_df['Female 5-11'].median(), inplace=True)\n",
    "demographics_df['Female 5-17'].fillna(demographics_df['Female 5-17'].median(), inplace=True)\n",
    "demographics_df['Female 12-17'].fillna(demographics_df['Female 12-17'].median(), inplace=True)\n",
    "demographics_df['Female 18-59'].fillna(demographics_df['Female 18-59'].median(), inplace=True)\n",
    "demographics_df['Female 60+'].fillna(demographics_df['Female 60+'].median(), inplace=True)\n",
    "demographics_df['F: Unknown'].fillna(demographics_df['F: Unknown'].median(), inplace=True)\n",
    "\n",
    "demographics_df['Male 0-4'].fillna(demographics_df['Male 0-4'].median(), inplace=True)\n",
    "demographics_df['Male 5-11'].fillna(demographics_df['Male 5-11'].median(), inplace=True)\n",
    "demographics_df['Male 5-17'].fillna(demographics_df['Male 5-17'].median(), inplace=True)\n",
    "demographics_df['Male 12-17'].fillna(demographics_df['Male 12-17'].median(), inplace=True)\n",
    "demographics_df['Male 18-59'].fillna(demographics_df['Male 18-59'].median(), inplace=True)\n",
    "demographics_df['Male 60+'].fillna(demographics_df['Male 60+'].median(), inplace=True)\n",
    "demographics_df['M: Unknown'].fillna(demographics_df['M: Unknown'].median(), inplace=True)\n"
   ]
  },
  {
   "cell_type": "code",
   "execution_count": 37,
   "metadata": {},
   "outputs": [
    {
     "data": {
      "text/plain": [
       "Year                                0\n",
       "Territory of asylum or residence    0\n",
       "Location Name                       0\n",
       "Female 0-4                          0\n",
       "Female 5-11                         0\n",
       "Female 5-17                         0\n",
       "Female 12-17                        0\n",
       "Female 18-59                        0\n",
       "Female 60+                          0\n",
       "F: Unknown                          0\n",
       "F: Total                            0\n",
       "Male 0-4                            0\n",
       "Male 5-11                           0\n",
       "Male 5-17                           0\n",
       "Male 12-17                          0\n",
       "Male 18-59                          0\n",
       "Male 60+                            0\n",
       "M: Unknown                          0\n",
       "M: Total                            0\n",
       "dtype: int64"
      ]
     },
     "execution_count": 37,
     "metadata": {},
     "output_type": "execute_result"
    }
   ],
   "source": [
    "demographics_df.isnull().sum()"
   ]
  },
  {
   "cell_type": "code",
   "execution_count": null,
   "metadata": {},
   "outputs": [],
   "source": []
  }
 ],
 "metadata": {
  "kernelspec": {
   "display_name": "base",
   "language": "python",
   "name": "python3"
  },
  "language_info": {
   "codemirror_mode": {
    "name": "ipython",
    "version": 3
   },
   "file_extension": ".py",
   "mimetype": "text/x-python",
   "name": "python",
   "nbconvert_exporter": "python",
   "pygments_lexer": "ipython3",
   "version": "3.12.4"
  }
 },
 "nbformat": 4,
 "nbformat_minor": 2
}
