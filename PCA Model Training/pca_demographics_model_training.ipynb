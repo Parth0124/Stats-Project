{
 "cells": [
  {
   "cell_type": "markdown",
   "metadata": {},
   "source": [
    "## Training the model using cleaned_demographics.csv dataset with PCA applied on it and 2 features considered as principal component features"
   ]
  },
  {
   "cell_type": "code",
   "execution_count": 1,
   "metadata": {},
   "outputs": [],
   "source": [
    "import pandas as pd\n",
    "import numpy as np\n",
    "import matplotlib.pyplot as plt\n",
    "import seaborn as sns\n",
    "%matplotlib inline"
   ]
  },
  {
   "cell_type": "code",
   "execution_count": 3,
   "metadata": {},
   "outputs": [
    {
     "data": {
      "text/html": [
       "<div>\n",
       "<style scoped>\n",
       "    .dataframe tbody tr th:only-of-type {\n",
       "        vertical-align: middle;\n",
       "    }\n",
       "\n",
       "    .dataframe tbody tr th {\n",
       "        vertical-align: top;\n",
       "    }\n",
       "\n",
       "    .dataframe thead th {\n",
       "        text-align: right;\n",
       "    }\n",
       "</style>\n",
       "<table border=\"1\" class=\"dataframe\">\n",
       "  <thead>\n",
       "    <tr style=\"text-align: right;\">\n",
       "      <th></th>\n",
       "      <th>PC1</th>\n",
       "      <th>PC2</th>\n",
       "      <th>Total Population</th>\n",
       "    </tr>\n",
       "  </thead>\n",
       "  <tbody>\n",
       "    <tr>\n",
       "      <th>0</th>\n",
       "      <td>-0.445547</td>\n",
       "      <td>0.087516</td>\n",
       "      <td>4.0</td>\n",
       "    </tr>\n",
       "    <tr>\n",
       "      <th>1</th>\n",
       "      <td>16.537534</td>\n",
       "      <td>14.037633</td>\n",
       "      <td>1216624.0</td>\n",
       "    </tr>\n",
       "    <tr>\n",
       "      <th>2</th>\n",
       "      <td>-0.445567</td>\n",
       "      <td>0.087511</td>\n",
       "      <td>2.0</td>\n",
       "    </tr>\n",
       "    <tr>\n",
       "      <th>3</th>\n",
       "      <td>-0.282247</td>\n",
       "      <td>0.158660</td>\n",
       "      <td>6559.0</td>\n",
       "    </tr>\n",
       "    <tr>\n",
       "      <th>4</th>\n",
       "      <td>-0.381749</td>\n",
       "      <td>0.118858</td>\n",
       "      <td>2496.0</td>\n",
       "    </tr>\n",
       "  </tbody>\n",
       "</table>\n",
       "</div>"
      ],
      "text/plain": [
       "         PC1        PC2  Total Population\n",
       "0  -0.445547   0.087516               4.0\n",
       "1  16.537534  14.037633         1216624.0\n",
       "2  -0.445567   0.087511               2.0\n",
       "3  -0.282247   0.158660            6559.0\n",
       "4  -0.381749   0.118858            2496.0"
      ]
     },
     "execution_count": 3,
     "metadata": {},
     "output_type": "execute_result"
    }
   ],
   "source": [
    "df=pd.read_csv('../Dataset with PCA/pca_demographics.csv')\n",
    "df.head()"
   ]
  },
  {
   "cell_type": "code",
   "execution_count": 4,
   "metadata": {},
   "outputs": [
    {
     "data": {
      "text/plain": [
       "Index(['PC1', 'PC2', 'Total Population'], dtype='object')"
      ]
     },
     "execution_count": 4,
     "metadata": {},
     "output_type": "execute_result"
    }
   ],
   "source": [
    "df.columns"
   ]
  },
  {
   "cell_type": "markdown",
   "metadata": {},
   "source": [
    "### Now we have a dataset with only numeric features. Now we split the features into independent and dependent features as x and y respectively. "
   ]
  },
  {
   "cell_type": "code",
   "execution_count": 5,
   "metadata": {},
   "outputs": [],
   "source": [
    "x=df.drop('Total Population', axis=1)\n",
    "y=df['Total Population']"
   ]
  },
  {
   "cell_type": "code",
   "execution_count": 6,
   "metadata": {},
   "outputs": [
    {
     "data": {
      "text/html": [
       "<div>\n",
       "<style scoped>\n",
       "    .dataframe tbody tr th:only-of-type {\n",
       "        vertical-align: middle;\n",
       "    }\n",
       "\n",
       "    .dataframe tbody tr th {\n",
       "        vertical-align: top;\n",
       "    }\n",
       "\n",
       "    .dataframe thead th {\n",
       "        text-align: right;\n",
       "    }\n",
       "</style>\n",
       "<table border=\"1\" class=\"dataframe\">\n",
       "  <thead>\n",
       "    <tr style=\"text-align: right;\">\n",
       "      <th></th>\n",
       "      <th>PC1</th>\n",
       "      <th>PC2</th>\n",
       "    </tr>\n",
       "  </thead>\n",
       "  <tbody>\n",
       "    <tr>\n",
       "      <th>0</th>\n",
       "      <td>-0.445547</td>\n",
       "      <td>0.087516</td>\n",
       "    </tr>\n",
       "    <tr>\n",
       "      <th>1</th>\n",
       "      <td>16.537534</td>\n",
       "      <td>14.037633</td>\n",
       "    </tr>\n",
       "    <tr>\n",
       "      <th>2</th>\n",
       "      <td>-0.445567</td>\n",
       "      <td>0.087511</td>\n",
       "    </tr>\n",
       "    <tr>\n",
       "      <th>3</th>\n",
       "      <td>-0.282247</td>\n",
       "      <td>0.158660</td>\n",
       "    </tr>\n",
       "    <tr>\n",
       "      <th>4</th>\n",
       "      <td>-0.381749</td>\n",
       "      <td>0.118858</td>\n",
       "    </tr>\n",
       "  </tbody>\n",
       "</table>\n",
       "</div>"
      ],
      "text/plain": [
       "         PC1        PC2\n",
       "0  -0.445547   0.087516\n",
       "1  16.537534  14.037633\n",
       "2  -0.445567   0.087511\n",
       "3  -0.282247   0.158660\n",
       "4  -0.381749   0.118858"
      ]
     },
     "execution_count": 6,
     "metadata": {},
     "output_type": "execute_result"
    }
   ],
   "source": [
    "x.head()"
   ]
  },
  {
   "cell_type": "code",
   "execution_count": 7,
   "metadata": {},
   "outputs": [
    {
     "data": {
      "text/plain": [
       "0          4.0\n",
       "1    1216624.0\n",
       "2          2.0\n",
       "3       6559.0\n",
       "4       2496.0\n",
       "Name: Total Population, dtype: float64"
      ]
     },
     "execution_count": 7,
     "metadata": {},
     "output_type": "execute_result"
    }
   ],
   "source": [
    "y.head()"
   ]
  },
  {
   "cell_type": "markdown",
   "metadata": {},
   "source": [
    "### Train Test Split"
   ]
  },
  {
   "cell_type": "code",
   "execution_count": 8,
   "metadata": {},
   "outputs": [],
   "source": [
    "from sklearn.model_selection import train_test_split"
   ]
  },
  {
   "cell_type": "code",
   "execution_count": 9,
   "metadata": {},
   "outputs": [],
   "source": [
    "x_train,x_test,y_train,y_test=train_test_split(x,y,test_size=0.3,random_state=20)"
   ]
  },
  {
   "cell_type": "code",
   "execution_count": 10,
   "metadata": {},
   "outputs": [
    {
     "data": {
      "text/plain": [
       "((12848, 2), (5507, 2))"
      ]
     },
     "execution_count": 10,
     "metadata": {},
     "output_type": "execute_result"
    }
   ],
   "source": [
    "x_train.shape, x_test.shape"
   ]
  },
  {
   "cell_type": "code",
   "execution_count": 11,
   "metadata": {},
   "outputs": [
    {
     "data": {
      "text/plain": [
       "Index(['PC1', 'PC2'], dtype='object')"
      ]
     },
     "execution_count": 11,
     "metadata": {},
     "output_type": "execute_result"
    }
   ],
   "source": [
    "x_train.columns"
   ]
  },
  {
   "cell_type": "code",
   "execution_count": 12,
   "metadata": {},
   "outputs": [
    {
     "data": {
      "text/html": [
       "<div>\n",
       "<style scoped>\n",
       "    .dataframe tbody tr th:only-of-type {\n",
       "        vertical-align: middle;\n",
       "    }\n",
       "\n",
       "    .dataframe tbody tr th {\n",
       "        vertical-align: top;\n",
       "    }\n",
       "\n",
       "    .dataframe thead th {\n",
       "        text-align: right;\n",
       "    }\n",
       "</style>\n",
       "<table border=\"1\" class=\"dataframe\">\n",
       "  <thead>\n",
       "    <tr style=\"text-align: right;\">\n",
       "      <th></th>\n",
       "      <th>PC1</th>\n",
       "      <th>PC2</th>\n",
       "    </tr>\n",
       "  </thead>\n",
       "  <tbody>\n",
       "    <tr>\n",
       "      <th>10209</th>\n",
       "      <td>-0.443773</td>\n",
       "      <td>0.089960</td>\n",
       "    </tr>\n",
       "    <tr>\n",
       "      <th>17345</th>\n",
       "      <td>-0.416959</td>\n",
       "      <td>0.076538</td>\n",
       "    </tr>\n",
       "    <tr>\n",
       "      <th>13461</th>\n",
       "      <td>-0.444537</td>\n",
       "      <td>0.090273</td>\n",
       "    </tr>\n",
       "    <tr>\n",
       "      <th>7018</th>\n",
       "      <td>-0.444475</td>\n",
       "      <td>0.090229</td>\n",
       "    </tr>\n",
       "    <tr>\n",
       "      <th>2475</th>\n",
       "      <td>-0.108035</td>\n",
       "      <td>0.293187</td>\n",
       "    </tr>\n",
       "  </tbody>\n",
       "</table>\n",
       "</div>"
      ],
      "text/plain": [
       "            PC1       PC2\n",
       "10209 -0.443773  0.089960\n",
       "17345 -0.416959  0.076538\n",
       "13461 -0.444537  0.090273\n",
       "7018  -0.444475  0.090229\n",
       "2475  -0.108035  0.293187"
      ]
     },
     "execution_count": 12,
     "metadata": {},
     "output_type": "execute_result"
    }
   ],
   "source": [
    "x_test.head()"
   ]
  },
  {
   "cell_type": "code",
   "execution_count": 13,
   "metadata": {},
   "outputs": [
    {
     "data": {
      "text/html": [
       "<div>\n",
       "<style scoped>\n",
       "    .dataframe tbody tr th:only-of-type {\n",
       "        vertical-align: middle;\n",
       "    }\n",
       "\n",
       "    .dataframe tbody tr th {\n",
       "        vertical-align: top;\n",
       "    }\n",
       "\n",
       "    .dataframe thead th {\n",
       "        text-align: right;\n",
       "    }\n",
       "</style>\n",
       "<table border=\"1\" class=\"dataframe\">\n",
       "  <thead>\n",
       "    <tr style=\"text-align: right;\">\n",
       "      <th></th>\n",
       "      <th>PC1</th>\n",
       "      <th>PC2</th>\n",
       "    </tr>\n",
       "  </thead>\n",
       "  <tbody>\n",
       "    <tr>\n",
       "      <th>2694</th>\n",
       "      <td>-0.435279</td>\n",
       "      <td>0.091856</td>\n",
       "    </tr>\n",
       "    <tr>\n",
       "      <th>11465</th>\n",
       "      <td>-0.444402</td>\n",
       "      <td>0.090247</td>\n",
       "    </tr>\n",
       "    <tr>\n",
       "      <th>3015</th>\n",
       "      <td>-0.445552</td>\n",
       "      <td>0.087517</td>\n",
       "    </tr>\n",
       "    <tr>\n",
       "      <th>17200</th>\n",
       "      <td>-0.433158</td>\n",
       "      <td>0.085496</td>\n",
       "    </tr>\n",
       "    <tr>\n",
       "      <th>7896</th>\n",
       "      <td>-0.442293</td>\n",
       "      <td>0.089626</td>\n",
       "    </tr>\n",
       "  </tbody>\n",
       "</table>\n",
       "</div>"
      ],
      "text/plain": [
       "            PC1       PC2\n",
       "2694  -0.435279  0.091856\n",
       "11465 -0.444402  0.090247\n",
       "3015  -0.445552  0.087517\n",
       "17200 -0.433158  0.085496\n",
       "7896  -0.442293  0.089626"
      ]
     },
     "execution_count": 13,
     "metadata": {},
     "output_type": "execute_result"
    }
   ],
   "source": [
    "x_test.tail()"
   ]
  },
  {
   "cell_type": "code",
   "execution_count": 14,
   "metadata": {},
   "outputs": [
    {
     "data": {
      "text/plain": [
       "10209       29.0\n",
       "17345      704.0\n",
       "13461        2.0\n",
       "7018         3.0\n",
       "2475     13279.0\n",
       "Name: Total Population, dtype: float64"
      ]
     },
     "execution_count": 14,
     "metadata": {},
     "output_type": "execute_result"
    }
   ],
   "source": [
    "y_test.head()"
   ]
  },
  {
   "cell_type": "code",
   "execution_count": 15,
   "metadata": {},
   "outputs": [
    {
     "data": {
      "text/plain": [
       "2694     466.0\n",
       "11465      8.0\n",
       "3015       3.0\n",
       "17200    266.0\n",
       "7896      90.0\n",
       "Name: Total Population, dtype: float64"
      ]
     },
     "execution_count": 15,
     "metadata": {},
     "output_type": "execute_result"
    }
   ],
   "source": [
    "y_test.tail()"
   ]
  },
  {
   "cell_type": "markdown",
   "metadata": {},
   "source": [
    "### Doing the regression"
   ]
  },
  {
   "cell_type": "code",
   "execution_count": 16,
   "metadata": {},
   "outputs": [],
   "source": [
    "from sklearn.linear_model import LinearRegression"
   ]
  },
  {
   "cell_type": "code",
   "execution_count": 64,
   "metadata": {},
   "outputs": [],
   "source": [
    "regression=LinearRegression()"
   ]
  },
  {
   "cell_type": "code",
   "execution_count": 65,
   "metadata": {},
   "outputs": [],
   "source": [
    "regression.fit(x_train_scaled,y_train)\n",
    "y_predicted = regression.predict(x_test_scaled)"
   ]
  },
  {
   "cell_type": "code",
   "execution_count": 66,
   "metadata": {},
   "outputs": [],
   "source": [
    "from sklearn.metrics import mean_absolute_error, mean_squared_error, r2_score"
   ]
  },
  {
   "cell_type": "code",
   "execution_count": 67,
   "metadata": {},
   "outputs": [
    {
     "name": "stdout",
     "output_type": "stream",
     "text": [
      "0.9999748003359833\n",
      "142.36504661991393\n",
      "503909.57477386\n"
     ]
    }
   ],
   "source": [
    "accuracy = r2_score(y_test, y_predicted)\n",
    "mae=mean_absolute_error(y_test, y_predicted)\n",
    "mse=mean_squared_error(y_test, y_predicted)\n",
    "print(accuracy)\n",
    "print(mae)\n",
    "print(mse)"
   ]
  },
  {
   "cell_type": "code",
   "execution_count": 90,
   "metadata": {},
   "outputs": [
    {
     "data": {
      "image/png": "[encoded data removed]",
      "text/plain": [
       "<Figure size 640x480 with 1 Axes>"
      ]
     },
     "metadata": {},
     "output_type": "display_data"
    }
   ],
   "source": [
    "### plotting the actual y_test values and predicted y values using multiple linear regression\n",
    "\n",
    "plt.scatter(y_test, y_predicted, color='blue', label='Predicted')\n",
    "plt.scatter(y_test, y_test, color='red', label='Actual')\n",
    "plt.xlabel('Actual values (y_test)')\n",
    "plt.ylabel('Predicted values (y_predicted)')\n",
    "plt.title('Actual vs Predicted')\n",
    "plt.legend()\n",
    "plt.show()\n"
   ]
  },
  {
   "cell_type": "code",
   "execution_count": 69,
   "metadata": {},
   "outputs": [],
   "source": [
    "import pickle"
   ]
  },
  {
   "cell_type": "code",
   "execution_count": 70,
   "metadata": {},
   "outputs": [],
   "source": [
    "with open('demographics.pkl', 'wb') as file:\n",
    "    pickle.dump(regression, file)"
   ]
  },
  {
   "cell_type": "code",
   "execution_count": 71,
   "metadata": {},
   "outputs": [
    {
     "name": "stdout",
     "output_type": "stream",
     "text": [
      "Predicted Value: 711.8873750806688\n"
     ]
    }
   ],
   "source": [
    "with open('demographics.pkl', 'rb') as file:\n",
    "    loaded_model = pickle.load(file)\n",
    "\n",
    "test_data = {\n",
    "    'Female 0-4': [102.0],\n",
    "    'Female 5-11': [54.0],\n",
    "    'Female 12-17': [35.0],\n",
    "    'Female 18-59': [116.0],\n",
    "    'Female 60+': [5.0],\n",
    "    'F: Unknown': [0.0],\n",
    "    'Male 0-4': [97.0],\n",
    "    'Male 5-11': [64.0],\n",
    "    'Male 5-17': [44.0],\n",
    "    'Male 18-59': [178.0],\n",
    "    'Male 60+': [10.0],\n",
    "    'M: Unknown': [0.0]\n",
    "}\n",
    "\n",
    "test_df = pd.DataFrame(test_data)\n",
    "x_data_1_model_testing_after_training = scaler.transform(test_df) \n",
    "predictions = loaded_model.predict(x_data_1_model_testing_after_training)\n",
    "print(f\"Predicted Value: {predictions[0]}\")\n"
   ]
  },
  {
   "cell_type": "code",
   "execution_count": 72,
   "metadata": {},
   "outputs": [
    {
     "name": "stdout",
     "output_type": "stream",
     "text": [
      "Predicted Value: 12770.35983626004\n"
     ]
    }
   ],
   "source": [
    "with open('demographics.pkl', 'rb') as file:\n",
    "    loaded_model = pickle.load(file)\n",
    "\n",
    "test_data = {\n",
    "    'Female 0-4': [0.0],\n",
    "    'Female 5-11': [0.0],\n",
    "    'Female 12-17': [0.0],\n",
    "    'Female 18-59': [3124.0],\n",
    "    'Female 60+': [371.0],\n",
    "    'F: Unknown': [0.0],\n",
    "    'Male 0-4': [333.0],\n",
    "    'Male 5-11': [0.0],\n",
    "    'Male 5-17': [2749.0],\n",
    "    'Male 18-59': [3424.0],\n",
    "    'Male 60+': [304.0],\n",
    "    'M: Unknown': [0.0]\n",
    "}\n",
    "\n",
    "test_df = pd.DataFrame(test_data)\n",
    "x_data_2_model_testing_after_training = scaler.transform(test_df) \n",
    "predictions = loaded_model.predict(x_data_2_model_testing_after_training)\n",
    "print(f\"Predicted Value: {predictions[0]}\")\n"
   ]
  },
  {
   "cell_type": "markdown",
   "metadata": {},
   "source": [
    "### Decission Tree Regression"
   ]
  },
  {
   "cell_type": "code",
   "execution_count": 73,
   "metadata": {},
   "outputs": [
    {
     "name": "stdout",
     "output_type": "stream",
     "text": [
      "0.9387697677307991\n",
      "1609.3595808358598\n",
      "1224401257.317095\n"
     ]
    }
   ],
   "source": [
    "from sklearn.tree import DecisionTreeRegressor\n",
    "\n",
    "dt_model = DecisionTreeRegressor(random_state=42)\n",
    "dt_model.fit(x_train_scaled, y_train)\n",
    "dt_predictions = dt_model.predict(x_test_scaled)\n",
    "\n",
    "dt_mae=mean_absolute_error(y_test,dt_predictions)\n",
    "dt_accuracy=r2_score(y_test,dt_predictions)\n",
    "dt_mse = mean_squared_error(y_test, dt_predictions)\n",
    "print(dt_accuracy)\n",
    "print(dt_mae)\n",
    "print(dt_mse)\n"
   ]
  },
  {
   "cell_type": "code",
   "execution_count": 95,
   "metadata": {},
   "outputs": [
    {
     "data": {
      "image/png": "[encoded data removed]",
      "text/plain": [
       "<Figure size 640x480 with 1 Axes>"
      ]
     },
     "metadata": {},
     "output_type": "display_data"
    }
   ],
   "source": [
    "### plotting the actual y_test values and the predicted y values using decission tree regressor\n",
    "\n",
    "plt.scatter(y_test, dt_predictions, color='blue', label='Predicted')\n",
    "plt.scatter(y_test, y_test, color='red', label='Actual')\n",
    "plt.xlabel('Actual values (y_test)')\n",
    "plt.ylabel('Predicted values (dt_predictions)')\n",
    "plt.title('Actual vs Predicted:Decission Tree')\n",
    "plt.legend()\n",
    "plt.show()\n"
   ]
  },
  {
   "cell_type": "code",
   "execution_count": 75,
   "metadata": {},
   "outputs": [],
   "source": [
    "with open('demographics_decission_tree.pkl', 'wb') as file:\n",
    "    pickle.dump(dt_model, file)"
   ]
  },
  {
   "cell_type": "code",
   "execution_count": 76,
   "metadata": {},
   "outputs": [
    {
     "name": "stdout",
     "output_type": "stream",
     "text": [
      "Predicted Value: 725.0\n"
     ]
    }
   ],
   "source": [
    "with open('demographics_decission_tree.pkl', 'rb') as file:\n",
    "    loaded_model = pickle.load(file)\n",
    "\n",
    "test_data = {\n",
    "    'Female 0-4': [102.0],\n",
    "    'Female 5-11': [54.0],\n",
    "    'Female 12-17': [35.0],\n",
    "    'Female 18-59': [116.0],\n",
    "    'Female 60+': [5.0],\n",
    "    'F: Unknown': [0.0],\n",
    "    'Male 0-4': [97.0],\n",
    "    'Male 5-11': [64.0],\n",
    "    'Male 5-17': [44.0],\n",
    "    'Male 18-59': [178.0],\n",
    "    'Male 60+': [10.0],\n",
    "    'M: Unknown': [0.0]\n",
    "}\n",
    "\n",
    "\n",
    "test_df = pd.DataFrame(test_data)\n",
    "x_data_1_model_testing_after_training = scaler.transform(test_df)\n",
    "predictions = loaded_model.predict(x_data_1_model_testing_after_training)\n",
    "print(f\"Predicted Value: {predictions[0]}\")\n"
   ]
  },
  {
   "cell_type": "code",
   "execution_count": 77,
   "metadata": {},
   "outputs": [
    {
     "name": "stdout",
     "output_type": "stream",
     "text": [
      "Predicted Value: 13271.0\n"
     ]
    }
   ],
   "source": [
    "with open('demographics_decission_tree.pkl', 'rb') as file:\n",
    "    loaded_model = pickle.load(file)\n",
    "\n",
    "test_data = {\n",
    "    'Female 0-4': [296.0],\n",
    "    'Female 5-11': [0.0],\n",
    "    'Female 12-17': [0.0],\n",
    "    'Female 18-59': [3124.0],\n",
    "    'Female 60+': [371.0],\n",
    "    'F: Unknown': [0.0],\n",
    "    'Male 0-4': [333.0],\n",
    "    'Male 5-11': [0.0],\n",
    "    'Male 5-17': [2749.0],\n",
    "    'Male 18-59': [3424.0],\n",
    "    'Male 60+': [304.0],\n",
    "    'M: Unknown': [0.0]\n",
    "}\n",
    "\n",
    "test_df = pd.DataFrame(test_data)\n",
    "x_data_2_model_testing_after_training = scaler.transform(test_df)\n",
    "predictions = loaded_model.predict(x_data_2_model_testing_after_training)\n",
    "print(f\"Predicted Value: {predictions[0]}\")\n"
   ]
  },
  {
   "cell_type": "code",
   "execution_count": 78,
   "metadata": {},
   "outputs": [
    {
     "name": "stdout",
     "output_type": "stream",
     "text": [
      "Predicted Value: 486.0\n"
     ]
    }
   ],
   "source": [
    "with open('demographics_decission_tree.pkl', 'rb') as file:\n",
    "    loaded_model = pickle.load(file)\n",
    "\n",
    "\n",
    "test_data = {\n",
    "    'Female 0-4': [22.0],\n",
    "    'Female 5-11': [0.0],\n",
    "    'Female 12-17': [0.0],\n",
    "    'Female 18-59': [111.0],\n",
    "    'Female 60+': [5.0],\n",
    "    'F: Unknown': [0.0],\n",
    "    'Male 0-4': [18.0],\n",
    "    'Male 5-11': [0.0],\n",
    "    'Male 5-17': [77.0],\n",
    "    'Male 18-59': [132.0],\n",
    "    'Male 60+': [2.0],\n",
    "    'M: Unknown': [0.0]\n",
    "}\n",
    "\n",
    "\n",
    "test_df = pd.DataFrame(test_data)\n",
    "x_data_2_model_testing_after_training = scaler.transform(test_df)\n",
    "predictions = loaded_model.predict(x_data_2_model_testing_after_training)\n",
    "print(f\"Predicted Value: {predictions[0]}\")\n"
   ]
  },
  {
   "cell_type": "markdown",
   "metadata": {},
   "source": [
    "### Random Forest Regression"
   ]
  },
  {
   "cell_type": "code",
   "execution_count": 79,
   "metadata": {},
   "outputs": [
    {
     "name": "stdout",
     "output_type": "stream",
     "text": [
      "0.9850746353948879\n",
      "1143.8511882959729\n",
      "298457714.6150648\n"
     ]
    }
   ],
   "source": [
    "from sklearn.ensemble import RandomForestRegressor\n",
    "\n",
    "rf_model = RandomForestRegressor(random_state=42)\n",
    "rf_model.fit(x_train_scaled, y_train)\n",
    "rf_predictions = rf_model.predict(x_test_scaled)\n",
    "\n",
    "rf_mse = mean_squared_error(y_test, rf_predictions)\n",
    "rf_mae= mean_absolute_error(y_test,rf_predictions)\n",
    "rf_accuracy=r2_score(y_test,rf_predictions)\n",
    "print(rf_accuracy)\n",
    "print(rf_mae)\n",
    "print(rf_mse)\n"
   ]
  },
  {
   "cell_type": "code",
   "execution_count": 96,
   "metadata": {},
   "outputs": [
    {
     "data": {
      "image/png": "[encoded data removed]",
      "text/plain": [
       "<Figure size 640x480 with 1 Axes>"
      ]
     },
     "metadata": {},
     "output_type": "display_data"
    }
   ],
   "source": [
    "### plotting the actual y_test values and the predicted y_test values using random forest regressor\n",
    "\n",
    "plt.scatter(y_test, rf_predictions, color='blue', label='Predicted')\n",
    "plt.scatter(y_test, y_test, color='red', label='Actual')\n",
    "plt.xlabel('Actual values (y_test)')\n",
    "plt.ylabel('Predicted values (rf_predictions)')\n",
    "plt.title('Actual vs Predicted: Random Forest')\n",
    "plt.legend()\n",
    "plt.show()\n"
   ]
  },
  {
   "cell_type": "code",
   "execution_count": 80,
   "metadata": {},
   "outputs": [],
   "source": [
    "with open('demographics_random_forest.pkl', 'wb') as file:\n",
    "    pickle.dump(rf_model, file)"
   ]
  },
  {
   "cell_type": "code",
   "execution_count": 81,
   "metadata": {},
   "outputs": [
    {
     "name": "stdout",
     "output_type": "stream",
     "text": [
      "Predicted Value: 722.3\n"
     ]
    }
   ],
   "source": [
    "with open('demographics_random_forest.pkl', 'rb') as file:\n",
    "    loaded_model = pickle.load(file)\n",
    "\n",
    "test_data = {\n",
    "    'Female 0-4': [102.0],\n",
    "    'Female 5-11': [54.0],\n",
    "    'Female 12-17': [35.0],\n",
    "    'Female 18-59': [116.0],\n",
    "    'Female 60+': [5.0],\n",
    "    'F: Unknown': [0.0],\n",
    "    'Male 0-4': [97.0],\n",
    "    'Male 5-11': [64.0],\n",
    "    'Male 5-17': [44.0],\n",
    "    'Male 18-59': [178.0],\n",
    "    'Male 60+': [10.0],\n",
    "    'M: Unknown': [0.0]\n",
    "}\n",
    "\n",
    "test_df = pd.DataFrame(test_data)\n",
    "x_data_1_model_testing_after_training = scaler.transform(test_df)\n",
    "predictions = loaded_model.predict(x_data_1_model_testing_after_training)\n",
    "print(f\"Predicted Value: {predictions[0]}\")\n"
   ]
  },
  {
   "cell_type": "code",
   "execution_count": 82,
   "metadata": {},
   "outputs": [
    {
     "name": "stdout",
     "output_type": "stream",
     "text": [
      "Predicted Value: 13141.53\n"
     ]
    }
   ],
   "source": [
    "with open('demographics_random_forest.pkl', 'rb') as file:\n",
    "    loaded_model = pickle.load(file)\n",
    "\n",
    "test_data = {\n",
    "    'Female 0-4': [296.0],\n",
    "    'Female 5-11': [0.0],\n",
    "    'Female 12-17': [0.0],\n",
    "    'Female 18-59': [3124.0],\n",
    "    'Female 60+': [371.0],\n",
    "    'F: Unknown': [0.0],\n",
    "    'Male 0-4': [333.0],\n",
    "    'Male 5-11': [0.0],\n",
    "    'Male 5-17': [2749.0],\n",
    "    'Male 18-59': [3424.0],\n",
    "    'Male 60+': [304.0],\n",
    "    'M: Unknown': [0.0]\n",
    "}\n",
    "\n",
    "test_df = pd.DataFrame(test_data)\n",
    "x_data_2_model_testing_after_training = scaler.transform(test_df) \n",
    "predictions = loaded_model.predict(x_data_2_model_testing_after_training)\n",
    "print(f\"Predicted Value: {predictions[0]}\")\n"
   ]
  },
  {
   "cell_type": "markdown",
   "metadata": {},
   "source": [
    "### XGBoost Regression"
   ]
  },
  {
   "cell_type": "code",
   "execution_count": 83,
   "metadata": {},
   "outputs": [
    {
     "name": "stdout",
     "output_type": "stream",
     "text": [
      "0.9551883345193266\n",
      "1721.7499018368324\n",
      "896084458.9937682\n"
     ]
    }
   ],
   "source": [
    "import xgboost as xgb\n",
    "\n",
    "xgb_model = xgb.XGBRegressor(random_state=42)\n",
    "xgb_model.fit(x_train_scaled, y_train)\n",
    "xgb_predictions = xgb_model.predict(x_test_scaled)\n",
    "\n",
    "xgb_mse = mean_squared_error(y_test, xgb_predictions)\n",
    "xgb_mae=mean_absolute_error(y_test,xgb_predictions)\n",
    "xgb_accuracy = r2_score(y_test,xgb_predictions)\n",
    "print(xgb_accuracy)\n",
    "print(xgb_mae)\n",
    "print(xgb_mse)\n"
   ]
  },
  {
   "cell_type": "code",
   "execution_count": 97,
   "metadata": {},
   "outputs": [
    {
     "data": {
      "image/png": "[encoded data removed]",
      "text/plain": [
       "<Figure size 640x480 with 1 Axes>"
      ]
     },
     "metadata": {},
     "output_type": "display_data"
    }
   ],
   "source": [
    "### plootting the actual y_test values and the predicted y_test values using xgboost regressor\n",
    "\n",
    "\n",
    "plt.scatter(y_test, xgb_predictions, color='blue', label='Predicted')\n",
    "plt.scatter(y_test, y_test, color='red', label='Actual')\n",
    "plt.xlabel('Actual values (y_test)')\n",
    "plt.ylabel('Predicted values (xgb_predictions)')\n",
    "plt.title('Actual vs Predicted: XGBoost')\n",
    "plt.legend()\n",
    "plt.show()\n"
   ]
  },
  {
   "cell_type": "code",
   "execution_count": 84,
   "metadata": {},
   "outputs": [],
   "source": [
    "with open('demographics_xgboost.pkl', 'wb') as file:\n",
    "    pickle.dump(rf_model, file)"
   ]
  },
  {
   "cell_type": "code",
   "execution_count": 85,
   "metadata": {},
   "outputs": [
    {
     "name": "stdout",
     "output_type": "stream",
     "text": [
      "Predicted Value: 722.3\n"
     ]
    }
   ],
   "source": [
    "with open('demographics_xgboost.pkl', 'rb') as file:\n",
    "    loaded_model = pickle.load(file)\n",
    "\n",
    "test_data = {\n",
    "    'Female 0-4': [102.0],\n",
    "    'Female 5-11': [54.0],\n",
    "    'Female 12-17': [35.0],\n",
    "    'Female 18-59': [116.0],\n",
    "    'Female 60+': [5.0],\n",
    "    'F: Unknown': [0.0],\n",
    "    'Male 0-4': [97.0],\n",
    "    'Male 5-11': [64.0],\n",
    "    'Male 5-17': [44.0],\n",
    "    'Male 18-59': [178.0],\n",
    "    'Male 60+': [10.0],\n",
    "    'M: Unknown': [0.0]\n",
    "}\n",
    "\n",
    "test_df = pd.DataFrame(test_data)\n",
    "x_data_1_model_testing_after_training = scaler.transform(test_df)\n",
    "predictions = loaded_model.predict(x_data_1_model_testing_after_training)\n",
    "print(f\"Predicted Value: {predictions[0]}\")\n"
   ]
  },
  {
   "cell_type": "code",
   "execution_count": 86,
   "metadata": {},
   "outputs": [
    {
     "name": "stdout",
     "output_type": "stream",
     "text": [
      "Predicted Value: 13141.53\n"
     ]
    }
   ],
   "source": [
    "with open('demographics_xgboost.pkl', 'rb') as file:\n",
    "    loaded_model = pickle.load(file)\n",
    "\n",
    "test_data = {\n",
    "    'Female 0-4': [296.0],\n",
    "    'Female 5-11': [0.0],\n",
    "    'Female 12-17': [0.0],\n",
    "    'Female 18-59': [3124.0],\n",
    "    'Female 60+': [371.0],\n",
    "    'F: Unknown': [0.0],\n",
    "    'Male 0-4': [333.0],\n",
    "    'Male 5-11': [0.0],\n",
    "    'Male 5-17': [2749.0],\n",
    "    'Male 18-59': [3424.0],\n",
    "    'Male 60+': [304.0],\n",
    "    'M: Unknown': [0.0]\n",
    "}\n",
    "\n",
    "test_df = pd.DataFrame(test_data)\n",
    "x_data_2_model_testing_after_training = scaler.transform(test_df)\n",
    "predictions = loaded_model.predict(x_data_2_model_testing_after_training)\n",
    "print(f\"Predicted Value: {predictions[0]}\")\n"
   ]
  }
 ],
 "metadata": {
  "kernelspec": {
   "display_name": "base",
   "language": "python",
   "name": "python3"
  },
  "language_info": {
   "codemirror_mode": {
    "name": "ipython",
    "version": 3
   },
   "file_extension": ".py",
   "mimetype": "text/x-python",
   "name": "python",
   "nbconvert_exporter": "python",
   "pygments_lexer": "ipython3",
   "version": "3.12.4"
  }
 },
 "nbformat": 4,
 "nbformat_minor": 2
}
