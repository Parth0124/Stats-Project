{
 "cells": [
  {
   "cell_type": "markdown",
   "metadata": {},
   "source": [
    "## Training the model using cleaned_demographics.csv dataset"
   ]
  },
  {
   "cell_type": "code",
   "execution_count": 158,
   "metadata": {},
   "outputs": [],
   "source": [
    "import pandas as pd\n",
    "import numpy as np\n",
    "import matplotlib.pyplot as plt\n",
    "import seaborn as sns\n",
    "%matplotlib inline"
   ]
  },
  {
   "cell_type": "code",
   "execution_count": 159,
   "metadata": {},
   "outputs": [
    {
     "data": {
      "text/html": [
       "<div>\n",
       "<style scoped>\n",
       "    .dataframe tbody tr th:only-of-type {\n",
       "        vertical-align: middle;\n",
       "    }\n",
       "\n",
       "    .dataframe tbody tr th {\n",
       "        vertical-align: top;\n",
       "    }\n",
       "\n",
       "    .dataframe thead th {\n",
       "        text-align: right;\n",
       "    }\n",
       "</style>\n",
       "<table border=\"1\" class=\"dataframe\">\n",
       "  <thead>\n",
       "    <tr style=\"text-align: right;\">\n",
       "      <th></th>\n",
       "      <th>Year</th>\n",
       "      <th>Territory of asylum or residence</th>\n",
       "      <th>Location Name</th>\n",
       "      <th>Female 0-4</th>\n",
       "      <th>Female 5-11</th>\n",
       "      <th>Female 12-17</th>\n",
       "      <th>Female 18-59</th>\n",
       "      <th>Female 60+</th>\n",
       "      <th>F: Unknown</th>\n",
       "      <th>F: Total</th>\n",
       "      <th>Male 0-4</th>\n",
       "      <th>Male 5-11</th>\n",
       "      <th>Male 5-17</th>\n",
       "      <th>Male 18-59</th>\n",
       "      <th>Male 60+</th>\n",
       "      <th>M: Unknown</th>\n",
       "      <th>M: Total</th>\n",
       "    </tr>\n",
       "  </thead>\n",
       "  <tbody>\n",
       "    <tr>\n",
       "      <th>0</th>\n",
       "      <td>2001</td>\n",
       "      <td>Afghanistan</td>\n",
       "      <td>Kabul</td>\n",
       "      <td>0.0</td>\n",
       "      <td>0.0</td>\n",
       "      <td>0.0</td>\n",
       "      <td>1.0</td>\n",
       "      <td>0.0</td>\n",
       "      <td>0.0</td>\n",
       "      <td>2.0</td>\n",
       "      <td>0.0</td>\n",
       "      <td>0.0</td>\n",
       "      <td>0.0</td>\n",
       "      <td>2.0</td>\n",
       "      <td>0.0</td>\n",
       "      <td>0.0</td>\n",
       "      <td>2.0</td>\n",
       "    </tr>\n",
       "    <tr>\n",
       "      <th>1</th>\n",
       "      <td>2001</td>\n",
       "      <td>Afghanistan</td>\n",
       "      <td>Various</td>\n",
       "      <td>14335.0</td>\n",
       "      <td>0.0</td>\n",
       "      <td>0.0</td>\n",
       "      <td>99880.0</td>\n",
       "      <td>19234.0</td>\n",
       "      <td>412004.0</td>\n",
       "      <td>590904.0</td>\n",
       "      <td>14716.0</td>\n",
       "      <td>0.0</td>\n",
       "      <td>47522.0</td>\n",
       "      <td>114965.0</td>\n",
       "      <td>13025.0</td>\n",
       "      <td>435492.0</td>\n",
       "      <td>625720.0</td>\n",
       "    </tr>\n",
       "    <tr>\n",
       "      <th>2</th>\n",
       "      <td>2001</td>\n",
       "      <td>Afghanistan</td>\n",
       "      <td>Herat</td>\n",
       "      <td>0.0</td>\n",
       "      <td>0.0</td>\n",
       "      <td>0.0</td>\n",
       "      <td>1.0</td>\n",
       "      <td>0.0</td>\n",
       "      <td>0.0</td>\n",
       "      <td>1.0</td>\n",
       "      <td>0.0</td>\n",
       "      <td>0.0</td>\n",
       "      <td>0.0</td>\n",
       "      <td>1.0</td>\n",
       "      <td>0.0</td>\n",
       "      <td>0.0</td>\n",
       "      <td>1.0</td>\n",
       "    </tr>\n",
       "    <tr>\n",
       "      <th>3</th>\n",
       "      <td>2001</td>\n",
       "      <td>Angola</td>\n",
       "      <td>Viana</td>\n",
       "      <td>484.0</td>\n",
       "      <td>0.0</td>\n",
       "      <td>0.0</td>\n",
       "      <td>1282.0</td>\n",
       "      <td>43.0</td>\n",
       "      <td>0.0</td>\n",
       "      <td>3496.0</td>\n",
       "      <td>597.0</td>\n",
       "      <td>0.0</td>\n",
       "      <td>1645.0</td>\n",
       "      <td>787.0</td>\n",
       "      <td>34.0</td>\n",
       "      <td>0.0</td>\n",
       "      <td>3063.0</td>\n",
       "    </tr>\n",
       "    <tr>\n",
       "      <th>4</th>\n",
       "      <td>2001</td>\n",
       "      <td>Angola</td>\n",
       "      <td>Moxico</td>\n",
       "      <td>219.0</td>\n",
       "      <td>0.0</td>\n",
       "      <td>0.0</td>\n",
       "      <td>427.0</td>\n",
       "      <td>25.0</td>\n",
       "      <td>0.0</td>\n",
       "      <td>1405.0</td>\n",
       "      <td>226.0</td>\n",
       "      <td>0.0</td>\n",
       "      <td>711.0</td>\n",
       "      <td>139.0</td>\n",
       "      <td>15.0</td>\n",
       "      <td>0.0</td>\n",
       "      <td>1091.0</td>\n",
       "    </tr>\n",
       "  </tbody>\n",
       "</table>\n",
       "</div>"
      ],
      "text/plain": [
       "   Year Territory of asylum or residence Location Name  Female 0-4  \\\n",
       "0  2001                      Afghanistan         Kabul         0.0   \n",
       "1  2001                      Afghanistan       Various     14335.0   \n",
       "2  2001                      Afghanistan         Herat         0.0   \n",
       "3  2001                           Angola         Viana       484.0   \n",
       "4  2001                           Angola        Moxico       219.0   \n",
       "\n",
       "   Female 5-11  Female 12-17  Female 18-59  Female 60+  F: Unknown  F: Total  \\\n",
       "0          0.0           0.0           1.0         0.0         0.0       2.0   \n",
       "1          0.0           0.0       99880.0     19234.0    412004.0  590904.0   \n",
       "2          0.0           0.0           1.0         0.0         0.0       1.0   \n",
       "3          0.0           0.0        1282.0        43.0         0.0    3496.0   \n",
       "4          0.0           0.0         427.0        25.0         0.0    1405.0   \n",
       "\n",
       "   Male 0-4  Male 5-11  Male 5-17  Male 18-59  Male 60+  M: Unknown  M: Total  \n",
       "0       0.0        0.0        0.0         2.0       0.0         0.0       2.0  \n",
       "1   14716.0        0.0    47522.0    114965.0   13025.0    435492.0  625720.0  \n",
       "2       0.0        0.0        0.0         1.0       0.0         0.0       1.0  \n",
       "3     597.0        0.0     1645.0       787.0      34.0         0.0    3063.0  \n",
       "4     226.0        0.0      711.0       139.0      15.0         0.0    1091.0  "
      ]
     },
     "execution_count": 159,
     "metadata": {},
     "output_type": "execute_result"
    }
   ],
   "source": [
    "df=pd.read_csv('../Stats Dataset Cleaned/cleaned_demographics.csv')\n",
    "df.head()"
   ]
  },
  {
   "cell_type": "code",
   "execution_count": 160,
   "metadata": {},
   "outputs": [],
   "source": [
    "### dropping the unecessary columns which are not numeric\n",
    "\n",
    "df.drop(columns=['Year', 'Territory of asylum or residence', 'Location Name'], axis=1, inplace=True)"
   ]
  },
  {
   "cell_type": "code",
   "execution_count": 161,
   "metadata": {},
   "outputs": [
    {
     "data": {
      "text/html": [
       "<div>\n",
       "<style scoped>\n",
       "    .dataframe tbody tr th:only-of-type {\n",
       "        vertical-align: middle;\n",
       "    }\n",
       "\n",
       "    .dataframe tbody tr th {\n",
       "        vertical-align: top;\n",
       "    }\n",
       "\n",
       "    .dataframe thead th {\n",
       "        text-align: right;\n",
       "    }\n",
       "</style>\n",
       "<table border=\"1\" class=\"dataframe\">\n",
       "  <thead>\n",
       "    <tr style=\"text-align: right;\">\n",
       "      <th></th>\n",
       "      <th>Female 0-4</th>\n",
       "      <th>Female 5-11</th>\n",
       "      <th>Female 12-17</th>\n",
       "      <th>Female 18-59</th>\n",
       "      <th>Female 60+</th>\n",
       "      <th>F: Unknown</th>\n",
       "      <th>F: Total</th>\n",
       "      <th>Male 0-4</th>\n",
       "      <th>Male 5-11</th>\n",
       "      <th>Male 5-17</th>\n",
       "      <th>Male 18-59</th>\n",
       "      <th>Male 60+</th>\n",
       "      <th>M: Unknown</th>\n",
       "      <th>M: Total</th>\n",
       "    </tr>\n",
       "  </thead>\n",
       "  <tbody>\n",
       "    <tr>\n",
       "      <th>0</th>\n",
       "      <td>0.0</td>\n",
       "      <td>0.0</td>\n",
       "      <td>0.0</td>\n",
       "      <td>1.0</td>\n",
       "      <td>0.0</td>\n",
       "      <td>0.0</td>\n",
       "      <td>2.0</td>\n",
       "      <td>0.0</td>\n",
       "      <td>0.0</td>\n",
       "      <td>0.0</td>\n",
       "      <td>2.0</td>\n",
       "      <td>0.0</td>\n",
       "      <td>0.0</td>\n",
       "      <td>2.0</td>\n",
       "    </tr>\n",
       "    <tr>\n",
       "      <th>1</th>\n",
       "      <td>14335.0</td>\n",
       "      <td>0.0</td>\n",
       "      <td>0.0</td>\n",
       "      <td>99880.0</td>\n",
       "      <td>19234.0</td>\n",
       "      <td>412004.0</td>\n",
       "      <td>590904.0</td>\n",
       "      <td>14716.0</td>\n",
       "      <td>0.0</td>\n",
       "      <td>47522.0</td>\n",
       "      <td>114965.0</td>\n",
       "      <td>13025.0</td>\n",
       "      <td>435492.0</td>\n",
       "      <td>625720.0</td>\n",
       "    </tr>\n",
       "    <tr>\n",
       "      <th>2</th>\n",
       "      <td>0.0</td>\n",
       "      <td>0.0</td>\n",
       "      <td>0.0</td>\n",
       "      <td>1.0</td>\n",
       "      <td>0.0</td>\n",
       "      <td>0.0</td>\n",
       "      <td>1.0</td>\n",
       "      <td>0.0</td>\n",
       "      <td>0.0</td>\n",
       "      <td>0.0</td>\n",
       "      <td>1.0</td>\n",
       "      <td>0.0</td>\n",
       "      <td>0.0</td>\n",
       "      <td>1.0</td>\n",
       "    </tr>\n",
       "    <tr>\n",
       "      <th>3</th>\n",
       "      <td>484.0</td>\n",
       "      <td>0.0</td>\n",
       "      <td>0.0</td>\n",
       "      <td>1282.0</td>\n",
       "      <td>43.0</td>\n",
       "      <td>0.0</td>\n",
       "      <td>3496.0</td>\n",
       "      <td>597.0</td>\n",
       "      <td>0.0</td>\n",
       "      <td>1645.0</td>\n",
       "      <td>787.0</td>\n",
       "      <td>34.0</td>\n",
       "      <td>0.0</td>\n",
       "      <td>3063.0</td>\n",
       "    </tr>\n",
       "    <tr>\n",
       "      <th>4</th>\n",
       "      <td>219.0</td>\n",
       "      <td>0.0</td>\n",
       "      <td>0.0</td>\n",
       "      <td>427.0</td>\n",
       "      <td>25.0</td>\n",
       "      <td>0.0</td>\n",
       "      <td>1405.0</td>\n",
       "      <td>226.0</td>\n",
       "      <td>0.0</td>\n",
       "      <td>711.0</td>\n",
       "      <td>139.0</td>\n",
       "      <td>15.0</td>\n",
       "      <td>0.0</td>\n",
       "      <td>1091.0</td>\n",
       "    </tr>\n",
       "  </tbody>\n",
       "</table>\n",
       "</div>"
      ],
      "text/plain": [
       "   Female 0-4  Female 5-11  Female 12-17  Female 18-59  Female 60+  \\\n",
       "0         0.0          0.0           0.0           1.0         0.0   \n",
       "1     14335.0          0.0           0.0       99880.0     19234.0   \n",
       "2         0.0          0.0           0.0           1.0         0.0   \n",
       "3       484.0          0.0           0.0        1282.0        43.0   \n",
       "4       219.0          0.0           0.0         427.0        25.0   \n",
       "\n",
       "   F: Unknown  F: Total  Male 0-4  Male 5-11  Male 5-17  Male 18-59  Male 60+  \\\n",
       "0         0.0       2.0       0.0        0.0        0.0         2.0       0.0   \n",
       "1    412004.0  590904.0   14716.0        0.0    47522.0    114965.0   13025.0   \n",
       "2         0.0       1.0       0.0        0.0        0.0         1.0       0.0   \n",
       "3         0.0    3496.0     597.0        0.0     1645.0       787.0      34.0   \n",
       "4         0.0    1405.0     226.0        0.0      711.0       139.0      15.0   \n",
       "\n",
       "   M: Unknown  M: Total  \n",
       "0         0.0       2.0  \n",
       "1    435492.0  625720.0  \n",
       "2         0.0       1.0  \n",
       "3         0.0    3063.0  \n",
       "4         0.0    1091.0  "
      ]
     },
     "execution_count": 161,
     "metadata": {},
     "output_type": "execute_result"
    }
   ],
   "source": [
    "df.head()"
   ]
  },
  {
   "cell_type": "code",
   "execution_count": 162,
   "metadata": {},
   "outputs": [
    {
     "data": {
      "text/plain": [
       "Index(['Female 0-4', 'Female 5-11', 'Female 12-17', 'Female 18-59',\n",
       "       'Female 60+', 'F: Unknown', 'F: Total', 'Male 0-4', 'Male 5-11',\n",
       "       'Male 5-17', 'Male 18-59', 'Male 60+', 'M: Unknown', 'M: Total'],\n",
       "      dtype='object')"
      ]
     },
     "execution_count": 162,
     "metadata": {},
     "output_type": "execute_result"
    }
   ],
   "source": [
    "df.columns"
   ]
  },
  {
   "cell_type": "code",
   "execution_count": 163,
   "metadata": {},
   "outputs": [],
   "source": [
    "### combining the total male and female population into one single output feature\n",
    "\n",
    "df['Total Population'] = pd.to_numeric(df['F: Total'], errors='coerce') + pd.to_numeric(df['M: Total'], errors='coerce')\n"
   ]
  },
  {
   "cell_type": "code",
   "execution_count": 164,
   "metadata": {},
   "outputs": [
    {
     "data": {
      "text/html": [
       "<div>\n",
       "<style scoped>\n",
       "    .dataframe tbody tr th:only-of-type {\n",
       "        vertical-align: middle;\n",
       "    }\n",
       "\n",
       "    .dataframe tbody tr th {\n",
       "        vertical-align: top;\n",
       "    }\n",
       "\n",
       "    .dataframe thead th {\n",
       "        text-align: right;\n",
       "    }\n",
       "</style>\n",
       "<table border=\"1\" class=\"dataframe\">\n",
       "  <thead>\n",
       "    <tr style=\"text-align: right;\">\n",
       "      <th></th>\n",
       "      <th>Female 0-4</th>\n",
       "      <th>Female 5-11</th>\n",
       "      <th>Female 12-17</th>\n",
       "      <th>Female 18-59</th>\n",
       "      <th>Female 60+</th>\n",
       "      <th>F: Unknown</th>\n",
       "      <th>F: Total</th>\n",
       "      <th>Male 0-4</th>\n",
       "      <th>Male 5-11</th>\n",
       "      <th>Male 5-17</th>\n",
       "      <th>Male 18-59</th>\n",
       "      <th>Male 60+</th>\n",
       "      <th>M: Unknown</th>\n",
       "      <th>M: Total</th>\n",
       "      <th>Total Population</th>\n",
       "    </tr>\n",
       "  </thead>\n",
       "  <tbody>\n",
       "    <tr>\n",
       "      <th>0</th>\n",
       "      <td>0.0</td>\n",
       "      <td>0.0</td>\n",
       "      <td>0.0</td>\n",
       "      <td>1.0</td>\n",
       "      <td>0.0</td>\n",
       "      <td>0.0</td>\n",
       "      <td>2.0</td>\n",
       "      <td>0.0</td>\n",
       "      <td>0.0</td>\n",
       "      <td>0.0</td>\n",
       "      <td>2.0</td>\n",
       "      <td>0.0</td>\n",
       "      <td>0.0</td>\n",
       "      <td>2.0</td>\n",
       "      <td>4.0</td>\n",
       "    </tr>\n",
       "    <tr>\n",
       "      <th>1</th>\n",
       "      <td>14335.0</td>\n",
       "      <td>0.0</td>\n",
       "      <td>0.0</td>\n",
       "      <td>99880.0</td>\n",
       "      <td>19234.0</td>\n",
       "      <td>412004.0</td>\n",
       "      <td>590904.0</td>\n",
       "      <td>14716.0</td>\n",
       "      <td>0.0</td>\n",
       "      <td>47522.0</td>\n",
       "      <td>114965.0</td>\n",
       "      <td>13025.0</td>\n",
       "      <td>435492.0</td>\n",
       "      <td>625720.0</td>\n",
       "      <td>1216624.0</td>\n",
       "    </tr>\n",
       "    <tr>\n",
       "      <th>2</th>\n",
       "      <td>0.0</td>\n",
       "      <td>0.0</td>\n",
       "      <td>0.0</td>\n",
       "      <td>1.0</td>\n",
       "      <td>0.0</td>\n",
       "      <td>0.0</td>\n",
       "      <td>1.0</td>\n",
       "      <td>0.0</td>\n",
       "      <td>0.0</td>\n",
       "      <td>0.0</td>\n",
       "      <td>1.0</td>\n",
       "      <td>0.0</td>\n",
       "      <td>0.0</td>\n",
       "      <td>1.0</td>\n",
       "      <td>2.0</td>\n",
       "    </tr>\n",
       "    <tr>\n",
       "      <th>3</th>\n",
       "      <td>484.0</td>\n",
       "      <td>0.0</td>\n",
       "      <td>0.0</td>\n",
       "      <td>1282.0</td>\n",
       "      <td>43.0</td>\n",
       "      <td>0.0</td>\n",
       "      <td>3496.0</td>\n",
       "      <td>597.0</td>\n",
       "      <td>0.0</td>\n",
       "      <td>1645.0</td>\n",
       "      <td>787.0</td>\n",
       "      <td>34.0</td>\n",
       "      <td>0.0</td>\n",
       "      <td>3063.0</td>\n",
       "      <td>6559.0</td>\n",
       "    </tr>\n",
       "    <tr>\n",
       "      <th>4</th>\n",
       "      <td>219.0</td>\n",
       "      <td>0.0</td>\n",
       "      <td>0.0</td>\n",
       "      <td>427.0</td>\n",
       "      <td>25.0</td>\n",
       "      <td>0.0</td>\n",
       "      <td>1405.0</td>\n",
       "      <td>226.0</td>\n",
       "      <td>0.0</td>\n",
       "      <td>711.0</td>\n",
       "      <td>139.0</td>\n",
       "      <td>15.0</td>\n",
       "      <td>0.0</td>\n",
       "      <td>1091.0</td>\n",
       "      <td>2496.0</td>\n",
       "    </tr>\n",
       "  </tbody>\n",
       "</table>\n",
       "</div>"
      ],
      "text/plain": [
       "   Female 0-4  Female 5-11  Female 12-17  Female 18-59  Female 60+  \\\n",
       "0         0.0          0.0           0.0           1.0         0.0   \n",
       "1     14335.0          0.0           0.0       99880.0     19234.0   \n",
       "2         0.0          0.0           0.0           1.0         0.0   \n",
       "3       484.0          0.0           0.0        1282.0        43.0   \n",
       "4       219.0          0.0           0.0         427.0        25.0   \n",
       "\n",
       "   F: Unknown  F: Total  Male 0-4  Male 5-11  Male 5-17  Male 18-59  Male 60+  \\\n",
       "0         0.0       2.0       0.0        0.0        0.0         2.0       0.0   \n",
       "1    412004.0  590904.0   14716.0        0.0    47522.0    114965.0   13025.0   \n",
       "2         0.0       1.0       0.0        0.0        0.0         1.0       0.0   \n",
       "3         0.0    3496.0     597.0        0.0     1645.0       787.0      34.0   \n",
       "4         0.0    1405.0     226.0        0.0      711.0       139.0      15.0   \n",
       "\n",
       "   M: Unknown  M: Total  Total Population  \n",
       "0         0.0       2.0               4.0  \n",
       "1    435492.0  625720.0         1216624.0  \n",
       "2         0.0       1.0               2.0  \n",
       "3         0.0    3063.0            6559.0  \n",
       "4         0.0    1091.0            2496.0  "
      ]
     },
     "execution_count": 164,
     "metadata": {},
     "output_type": "execute_result"
    }
   ],
   "source": [
    "df.head()"
   ]
  },
  {
   "cell_type": "code",
   "execution_count": 165,
   "metadata": {},
   "outputs": [
    {
     "data": {
      "text/html": [
       "<div>\n",
       "<style scoped>\n",
       "    .dataframe tbody tr th:only-of-type {\n",
       "        vertical-align: middle;\n",
       "    }\n",
       "\n",
       "    .dataframe tbody tr th {\n",
       "        vertical-align: top;\n",
       "    }\n",
       "\n",
       "    .dataframe thead th {\n",
       "        text-align: right;\n",
       "    }\n",
       "</style>\n",
       "<table border=\"1\" class=\"dataframe\">\n",
       "  <thead>\n",
       "    <tr style=\"text-align: right;\">\n",
       "      <th></th>\n",
       "      <th>Female 0-4</th>\n",
       "      <th>Female 5-11</th>\n",
       "      <th>Female 12-17</th>\n",
       "      <th>Female 18-59</th>\n",
       "      <th>Female 60+</th>\n",
       "      <th>F: Unknown</th>\n",
       "      <th>Male 0-4</th>\n",
       "      <th>Male 5-11</th>\n",
       "      <th>Male 5-17</th>\n",
       "      <th>Male 18-59</th>\n",
       "      <th>Male 60+</th>\n",
       "      <th>M: Unknown</th>\n",
       "      <th>Total Population</th>\n",
       "    </tr>\n",
       "  </thead>\n",
       "  <tbody>\n",
       "    <tr>\n",
       "      <th>0</th>\n",
       "      <td>0.0</td>\n",
       "      <td>0.0</td>\n",
       "      <td>0.0</td>\n",
       "      <td>1.0</td>\n",
       "      <td>0.0</td>\n",
       "      <td>0.0</td>\n",
       "      <td>0.0</td>\n",
       "      <td>0.0</td>\n",
       "      <td>0.0</td>\n",
       "      <td>2.0</td>\n",
       "      <td>0.0</td>\n",
       "      <td>0.0</td>\n",
       "      <td>4.0</td>\n",
       "    </tr>\n",
       "    <tr>\n",
       "      <th>1</th>\n",
       "      <td>14335.0</td>\n",
       "      <td>0.0</td>\n",
       "      <td>0.0</td>\n",
       "      <td>99880.0</td>\n",
       "      <td>19234.0</td>\n",
       "      <td>412004.0</td>\n",
       "      <td>14716.0</td>\n",
       "      <td>0.0</td>\n",
       "      <td>47522.0</td>\n",
       "      <td>114965.0</td>\n",
       "      <td>13025.0</td>\n",
       "      <td>435492.0</td>\n",
       "      <td>1216624.0</td>\n",
       "    </tr>\n",
       "    <tr>\n",
       "      <th>2</th>\n",
       "      <td>0.0</td>\n",
       "      <td>0.0</td>\n",
       "      <td>0.0</td>\n",
       "      <td>1.0</td>\n",
       "      <td>0.0</td>\n",
       "      <td>0.0</td>\n",
       "      <td>0.0</td>\n",
       "      <td>0.0</td>\n",
       "      <td>0.0</td>\n",
       "      <td>1.0</td>\n",
       "      <td>0.0</td>\n",
       "      <td>0.0</td>\n",
       "      <td>2.0</td>\n",
       "    </tr>\n",
       "    <tr>\n",
       "      <th>3</th>\n",
       "      <td>484.0</td>\n",
       "      <td>0.0</td>\n",
       "      <td>0.0</td>\n",
       "      <td>1282.0</td>\n",
       "      <td>43.0</td>\n",
       "      <td>0.0</td>\n",
       "      <td>597.0</td>\n",
       "      <td>0.0</td>\n",
       "      <td>1645.0</td>\n",
       "      <td>787.0</td>\n",
       "      <td>34.0</td>\n",
       "      <td>0.0</td>\n",
       "      <td>6559.0</td>\n",
       "    </tr>\n",
       "    <tr>\n",
       "      <th>4</th>\n",
       "      <td>219.0</td>\n",
       "      <td>0.0</td>\n",
       "      <td>0.0</td>\n",
       "      <td>427.0</td>\n",
       "      <td>25.0</td>\n",
       "      <td>0.0</td>\n",
       "      <td>226.0</td>\n",
       "      <td>0.0</td>\n",
       "      <td>711.0</td>\n",
       "      <td>139.0</td>\n",
       "      <td>15.0</td>\n",
       "      <td>0.0</td>\n",
       "      <td>2496.0</td>\n",
       "    </tr>\n",
       "  </tbody>\n",
       "</table>\n",
       "</div>"
      ],
      "text/plain": [
       "   Female 0-4  Female 5-11  Female 12-17  Female 18-59  Female 60+  \\\n",
       "0         0.0          0.0           0.0           1.0         0.0   \n",
       "1     14335.0          0.0           0.0       99880.0     19234.0   \n",
       "2         0.0          0.0           0.0           1.0         0.0   \n",
       "3       484.0          0.0           0.0        1282.0        43.0   \n",
       "4       219.0          0.0           0.0         427.0        25.0   \n",
       "\n",
       "   F: Unknown  Male 0-4  Male 5-11  Male 5-17  Male 18-59  Male 60+  \\\n",
       "0         0.0       0.0        0.0        0.0         2.0       0.0   \n",
       "1    412004.0   14716.0        0.0    47522.0    114965.0   13025.0   \n",
       "2         0.0       0.0        0.0        0.0         1.0       0.0   \n",
       "3         0.0     597.0        0.0     1645.0       787.0      34.0   \n",
       "4         0.0     226.0        0.0      711.0       139.0      15.0   \n",
       "\n",
       "   M: Unknown  Total Population  \n",
       "0         0.0               4.0  \n",
       "1    435492.0         1216624.0  \n",
       "2         0.0               2.0  \n",
       "3         0.0            6559.0  \n",
       "4         0.0            2496.0  "
      ]
     },
     "execution_count": 165,
     "metadata": {},
     "output_type": "execute_result"
    }
   ],
   "source": [
    "df.drop(columns=['F: Total', 'M: Total'], axis=1, inplace=True)\n",
    "df.head()"
   ]
  },
  {
   "cell_type": "markdown",
   "metadata": {},
   "source": [
    "### Now we have a dataset with only numeric features. Now we split the features into independent and dependent features as x and y respectively. "
   ]
  },
  {
   "cell_type": "code",
   "execution_count": 166,
   "metadata": {},
   "outputs": [],
   "source": [
    "x=df.drop('Total Population', axis=1)\n",
    "y=df['Total Population']"
   ]
  },
  {
   "cell_type": "code",
   "execution_count": 167,
   "metadata": {},
   "outputs": [
    {
     "data": {
      "text/html": [
       "<div>\n",
       "<style scoped>\n",
       "    .dataframe tbody tr th:only-of-type {\n",
       "        vertical-align: middle;\n",
       "    }\n",
       "\n",
       "    .dataframe tbody tr th {\n",
       "        vertical-align: top;\n",
       "    }\n",
       "\n",
       "    .dataframe thead th {\n",
       "        text-align: right;\n",
       "    }\n",
       "</style>\n",
       "<table border=\"1\" class=\"dataframe\">\n",
       "  <thead>\n",
       "    <tr style=\"text-align: right;\">\n",
       "      <th></th>\n",
       "      <th>Female 0-4</th>\n",
       "      <th>Female 5-11</th>\n",
       "      <th>Female 12-17</th>\n",
       "      <th>Female 18-59</th>\n",
       "      <th>Female 60+</th>\n",
       "      <th>F: Unknown</th>\n",
       "      <th>Male 0-4</th>\n",
       "      <th>Male 5-11</th>\n",
       "      <th>Male 5-17</th>\n",
       "      <th>Male 18-59</th>\n",
       "      <th>Male 60+</th>\n",
       "      <th>M: Unknown</th>\n",
       "    </tr>\n",
       "  </thead>\n",
       "  <tbody>\n",
       "    <tr>\n",
       "      <th>0</th>\n",
       "      <td>0.0</td>\n",
       "      <td>0.0</td>\n",
       "      <td>0.0</td>\n",
       "      <td>1.0</td>\n",
       "      <td>0.0</td>\n",
       "      <td>0.0</td>\n",
       "      <td>0.0</td>\n",
       "      <td>0.0</td>\n",
       "      <td>0.0</td>\n",
       "      <td>2.0</td>\n",
       "      <td>0.0</td>\n",
       "      <td>0.0</td>\n",
       "    </tr>\n",
       "    <tr>\n",
       "      <th>1</th>\n",
       "      <td>14335.0</td>\n",
       "      <td>0.0</td>\n",
       "      <td>0.0</td>\n",
       "      <td>99880.0</td>\n",
       "      <td>19234.0</td>\n",
       "      <td>412004.0</td>\n",
       "      <td>14716.0</td>\n",
       "      <td>0.0</td>\n",
       "      <td>47522.0</td>\n",
       "      <td>114965.0</td>\n",
       "      <td>13025.0</td>\n",
       "      <td>435492.0</td>\n",
       "    </tr>\n",
       "    <tr>\n",
       "      <th>2</th>\n",
       "      <td>0.0</td>\n",
       "      <td>0.0</td>\n",
       "      <td>0.0</td>\n",
       "      <td>1.0</td>\n",
       "      <td>0.0</td>\n",
       "      <td>0.0</td>\n",
       "      <td>0.0</td>\n",
       "      <td>0.0</td>\n",
       "      <td>0.0</td>\n",
       "      <td>1.0</td>\n",
       "      <td>0.0</td>\n",
       "      <td>0.0</td>\n",
       "    </tr>\n",
       "    <tr>\n",
       "      <th>3</th>\n",
       "      <td>484.0</td>\n",
       "      <td>0.0</td>\n",
       "      <td>0.0</td>\n",
       "      <td>1282.0</td>\n",
       "      <td>43.0</td>\n",
       "      <td>0.0</td>\n",
       "      <td>597.0</td>\n",
       "      <td>0.0</td>\n",
       "      <td>1645.0</td>\n",
       "      <td>787.0</td>\n",
       "      <td>34.0</td>\n",
       "      <td>0.0</td>\n",
       "    </tr>\n",
       "    <tr>\n",
       "      <th>4</th>\n",
       "      <td>219.0</td>\n",
       "      <td>0.0</td>\n",
       "      <td>0.0</td>\n",
       "      <td>427.0</td>\n",
       "      <td>25.0</td>\n",
       "      <td>0.0</td>\n",
       "      <td>226.0</td>\n",
       "      <td>0.0</td>\n",
       "      <td>711.0</td>\n",
       "      <td>139.0</td>\n",
       "      <td>15.0</td>\n",
       "      <td>0.0</td>\n",
       "    </tr>\n",
       "  </tbody>\n",
       "</table>\n",
       "</div>"
      ],
      "text/plain": [
       "   Female 0-4  Female 5-11  Female 12-17  Female 18-59  Female 60+  \\\n",
       "0         0.0          0.0           0.0           1.0         0.0   \n",
       "1     14335.0          0.0           0.0       99880.0     19234.0   \n",
       "2         0.0          0.0           0.0           1.0         0.0   \n",
       "3       484.0          0.0           0.0        1282.0        43.0   \n",
       "4       219.0          0.0           0.0         427.0        25.0   \n",
       "\n",
       "   F: Unknown  Male 0-4  Male 5-11  Male 5-17  Male 18-59  Male 60+  \\\n",
       "0         0.0       0.0        0.0        0.0         2.0       0.0   \n",
       "1    412004.0   14716.0        0.0    47522.0    114965.0   13025.0   \n",
       "2         0.0       0.0        0.0        0.0         1.0       0.0   \n",
       "3         0.0     597.0        0.0     1645.0       787.0      34.0   \n",
       "4         0.0     226.0        0.0      711.0       139.0      15.0   \n",
       "\n",
       "   M: Unknown  \n",
       "0         0.0  \n",
       "1    435492.0  \n",
       "2         0.0  \n",
       "3         0.0  \n",
       "4         0.0  "
      ]
     },
     "execution_count": 167,
     "metadata": {},
     "output_type": "execute_result"
    }
   ],
   "source": [
    "x.head()"
   ]
  },
  {
   "cell_type": "code",
   "execution_count": 168,
   "metadata": {},
   "outputs": [
    {
     "data": {
      "text/plain": [
       "0          4.0\n",
       "1    1216624.0\n",
       "2          2.0\n",
       "3       6559.0\n",
       "4       2496.0\n",
       "Name: Total Population, dtype: float64"
      ]
     },
     "execution_count": 168,
     "metadata": {},
     "output_type": "execute_result"
    }
   ],
   "source": [
    "y.head()"
   ]
  },
  {
   "cell_type": "markdown",
   "metadata": {},
   "source": [
    "### Train Test Split"
   ]
  },
  {
   "cell_type": "code",
   "execution_count": 169,
   "metadata": {},
   "outputs": [],
   "source": [
    "from sklearn.model_selection import train_test_split"
   ]
  },
  {
   "cell_type": "code",
   "execution_count": 170,
   "metadata": {},
   "outputs": [],
   "source": [
    "x_train,x_test,y_train,y_test=train_test_split(x,y,test_size=0.3,random_state=20)"
   ]
  },
  {
   "cell_type": "code",
   "execution_count": 171,
   "metadata": {},
   "outputs": [
    {
     "data": {
      "text/plain": [
       "((12848, 12), (5507, 12))"
      ]
     },
     "execution_count": 171,
     "metadata": {},
     "output_type": "execute_result"
    }
   ],
   "source": [
    "x_train.shape, x_test.shape"
   ]
  },
  {
   "cell_type": "code",
   "execution_count": 172,
   "metadata": {},
   "outputs": [
    {
     "data": {
      "text/plain": [
       "((12848, 12), (5507, 12))"
      ]
     },
     "execution_count": 172,
     "metadata": {},
     "output_type": "execute_result"
    }
   ],
   "source": [
    "x_train.shape, x_test.shape"
   ]
  },
  {
   "cell_type": "code",
   "execution_count": 173,
   "metadata": {},
   "outputs": [
    {
     "data": {
      "text/plain": [
       "Index(['Female 0-4', 'Female 5-11', 'Female 12-17', 'Female 18-59',\n",
       "       'Female 60+', 'F: Unknown', 'Male 0-4', 'Male 5-11', 'Male 5-17',\n",
       "       'Male 18-59', 'Male 60+', 'M: Unknown'],\n",
       "      dtype='object')"
      ]
     },
     "execution_count": 173,
     "metadata": {},
     "output_type": "execute_result"
    }
   ],
   "source": [
    "x_train.columns"
   ]
  },
  {
   "cell_type": "code",
   "execution_count": 207,
   "metadata": {},
   "outputs": [
    {
     "data": {
      "text/html": [
       "<div>\n",
       "<style scoped>\n",
       "    .dataframe tbody tr th:only-of-type {\n",
       "        vertical-align: middle;\n",
       "    }\n",
       "\n",
       "    .dataframe tbody tr th {\n",
       "        vertical-align: top;\n",
       "    }\n",
       "\n",
       "    .dataframe thead th {\n",
       "        text-align: right;\n",
       "    }\n",
       "</style>\n",
       "<table border=\"1\" class=\"dataframe\">\n",
       "  <thead>\n",
       "    <tr style=\"text-align: right;\">\n",
       "      <th></th>\n",
       "      <th>Female 0-4</th>\n",
       "      <th>Female 5-11</th>\n",
       "      <th>Female 12-17</th>\n",
       "      <th>Female 18-59</th>\n",
       "      <th>Female 60+</th>\n",
       "      <th>F: Unknown</th>\n",
       "      <th>Male 0-4</th>\n",
       "      <th>Male 5-11</th>\n",
       "      <th>Male 5-17</th>\n",
       "      <th>Male 18-59</th>\n",
       "      <th>Male 60+</th>\n",
       "      <th>M: Unknown</th>\n",
       "    </tr>\n",
       "  </thead>\n",
       "  <tbody>\n",
       "    <tr>\n",
       "      <th>10209</th>\n",
       "      <td>0.0</td>\n",
       "      <td>3.0</td>\n",
       "      <td>2.0</td>\n",
       "      <td>7.0</td>\n",
       "      <td>0.0</td>\n",
       "      <td>0.0</td>\n",
       "      <td>1.0</td>\n",
       "      <td>2.0</td>\n",
       "      <td>44.0</td>\n",
       "      <td>13.0</td>\n",
       "      <td>0.0</td>\n",
       "      <td>0.0</td>\n",
       "    </tr>\n",
       "    <tr>\n",
       "      <th>17345</th>\n",
       "      <td>102.0</td>\n",
       "      <td>54.0</td>\n",
       "      <td>35.0</td>\n",
       "      <td>116.0</td>\n",
       "      <td>5.0</td>\n",
       "      <td>0.0</td>\n",
       "      <td>97.0</td>\n",
       "      <td>64.0</td>\n",
       "      <td>44.0</td>\n",
       "      <td>178.0</td>\n",
       "      <td>10.0</td>\n",
       "      <td>0.0</td>\n",
       "    </tr>\n",
       "    <tr>\n",
       "      <th>13461</th>\n",
       "      <td>0.0</td>\n",
       "      <td>0.0</td>\n",
       "      <td>0.0</td>\n",
       "      <td>1.0</td>\n",
       "      <td>0.0</td>\n",
       "      <td>0.0</td>\n",
       "      <td>0.0</td>\n",
       "      <td>0.0</td>\n",
       "      <td>44.0</td>\n",
       "      <td>1.0</td>\n",
       "      <td>0.0</td>\n",
       "      <td>0.0</td>\n",
       "    </tr>\n",
       "    <tr>\n",
       "      <th>7018</th>\n",
       "      <td>0.0</td>\n",
       "      <td>0.0</td>\n",
       "      <td>0.0</td>\n",
       "      <td>2.0</td>\n",
       "      <td>0.0</td>\n",
       "      <td>0.0</td>\n",
       "      <td>1.0</td>\n",
       "      <td>0.0</td>\n",
       "      <td>44.0</td>\n",
       "      <td>0.0</td>\n",
       "      <td>0.0</td>\n",
       "      <td>0.0</td>\n",
       "    </tr>\n",
       "    <tr>\n",
       "      <th>2475</th>\n",
       "      <td>296.0</td>\n",
       "      <td>0.0</td>\n",
       "      <td>0.0</td>\n",
       "      <td>3124.0</td>\n",
       "      <td>371.0</td>\n",
       "      <td>0.0</td>\n",
       "      <td>333.0</td>\n",
       "      <td>0.0</td>\n",
       "      <td>2749.0</td>\n",
       "      <td>3424.0</td>\n",
       "      <td>304.0</td>\n",
       "      <td>0.0</td>\n",
       "    </tr>\n",
       "  </tbody>\n",
       "</table>\n",
       "</div>"
      ],
      "text/plain": [
       "       Female 0-4  Female 5-11  Female 12-17  Female 18-59  Female 60+  \\\n",
       "10209         0.0          3.0           2.0           7.0         0.0   \n",
       "17345       102.0         54.0          35.0         116.0         5.0   \n",
       "13461         0.0          0.0           0.0           1.0         0.0   \n",
       "7018          0.0          0.0           0.0           2.0         0.0   \n",
       "2475        296.0          0.0           0.0        3124.0       371.0   \n",
       "\n",
       "       F: Unknown  Male 0-4  Male 5-11  Male 5-17  Male 18-59  Male 60+  \\\n",
       "10209         0.0       1.0        2.0       44.0        13.0       0.0   \n",
       "17345         0.0      97.0       64.0       44.0       178.0      10.0   \n",
       "13461         0.0       0.0        0.0       44.0         1.0       0.0   \n",
       "7018          0.0       1.0        0.0       44.0         0.0       0.0   \n",
       "2475          0.0     333.0        0.0     2749.0      3424.0     304.0   \n",
       "\n",
       "       M: Unknown  \n",
       "10209         0.0  \n",
       "17345         0.0  \n",
       "13461         0.0  \n",
       "7018          0.0  \n",
       "2475          0.0  "
      ]
     },
     "execution_count": 207,
     "metadata": {},
     "output_type": "execute_result"
    }
   ],
   "source": [
    "x_test.head()"
   ]
  },
  {
   "cell_type": "code",
   "execution_count": 200,
   "metadata": {},
   "outputs": [
    {
     "data": {
      "text/html": [
       "<div>\n",
       "<style scoped>\n",
       "    .dataframe tbody tr th:only-of-type {\n",
       "        vertical-align: middle;\n",
       "    }\n",
       "\n",
       "    .dataframe tbody tr th {\n",
       "        vertical-align: top;\n",
       "    }\n",
       "\n",
       "    .dataframe thead th {\n",
       "        text-align: right;\n",
       "    }\n",
       "</style>\n",
       "<table border=\"1\" class=\"dataframe\">\n",
       "  <thead>\n",
       "    <tr style=\"text-align: right;\">\n",
       "      <th></th>\n",
       "      <th>Female 0-4</th>\n",
       "      <th>Female 5-11</th>\n",
       "      <th>Female 12-17</th>\n",
       "      <th>Female 18-59</th>\n",
       "      <th>Female 60+</th>\n",
       "      <th>F: Unknown</th>\n",
       "      <th>Male 0-4</th>\n",
       "      <th>Male 5-11</th>\n",
       "      <th>Male 5-17</th>\n",
       "      <th>Male 18-59</th>\n",
       "      <th>Male 60+</th>\n",
       "      <th>M: Unknown</th>\n",
       "    </tr>\n",
       "  </thead>\n",
       "  <tbody>\n",
       "    <tr>\n",
       "      <th>2694</th>\n",
       "      <td>22.0</td>\n",
       "      <td>0.0</td>\n",
       "      <td>0.0</td>\n",
       "      <td>111.0</td>\n",
       "      <td>5.0</td>\n",
       "      <td>0.0</td>\n",
       "      <td>18.0</td>\n",
       "      <td>0.0</td>\n",
       "      <td>77.0</td>\n",
       "      <td>132.0</td>\n",
       "      <td>2.0</td>\n",
       "      <td>0.0</td>\n",
       "    </tr>\n",
       "    <tr>\n",
       "      <th>11465</th>\n",
       "      <td>0.0</td>\n",
       "      <td>0.0</td>\n",
       "      <td>0.0</td>\n",
       "      <td>2.0</td>\n",
       "      <td>0.0</td>\n",
       "      <td>0.0</td>\n",
       "      <td>0.0</td>\n",
       "      <td>1.0</td>\n",
       "      <td>44.0</td>\n",
       "      <td>5.0</td>\n",
       "      <td>0.0</td>\n",
       "      <td>0.0</td>\n",
       "    </tr>\n",
       "    <tr>\n",
       "      <th>3015</th>\n",
       "      <td>0.0</td>\n",
       "      <td>0.0</td>\n",
       "      <td>0.0</td>\n",
       "      <td>0.0</td>\n",
       "      <td>0.0</td>\n",
       "      <td>0.0</td>\n",
       "      <td>0.0</td>\n",
       "      <td>0.0</td>\n",
       "      <td>0.0</td>\n",
       "      <td>3.0</td>\n",
       "      <td>0.0</td>\n",
       "      <td>0.0</td>\n",
       "    </tr>\n",
       "    <tr>\n",
       "      <th>17200</th>\n",
       "      <td>11.0</td>\n",
       "      <td>34.0</td>\n",
       "      <td>22.0</td>\n",
       "      <td>64.0</td>\n",
       "      <td>6.0</td>\n",
       "      <td>0.0</td>\n",
       "      <td>13.0</td>\n",
       "      <td>55.0</td>\n",
       "      <td>44.0</td>\n",
       "      <td>33.0</td>\n",
       "      <td>12.0</td>\n",
       "      <td>0.0</td>\n",
       "    </tr>\n",
       "    <tr>\n",
       "      <th>7896</th>\n",
       "      <td>2.0</td>\n",
       "      <td>5.0</td>\n",
       "      <td>2.0</td>\n",
       "      <td>21.0</td>\n",
       "      <td>0.0</td>\n",
       "      <td>0.0</td>\n",
       "      <td>3.0</td>\n",
       "      <td>7.0</td>\n",
       "      <td>44.0</td>\n",
       "      <td>48.0</td>\n",
       "      <td>0.0</td>\n",
       "      <td>0.0</td>\n",
       "    </tr>\n",
       "  </tbody>\n",
       "</table>\n",
       "</div>"
      ],
      "text/plain": [
       "       Female 0-4  Female 5-11  Female 12-17  Female 18-59  Female 60+  \\\n",
       "2694         22.0          0.0           0.0         111.0         5.0   \n",
       "11465         0.0          0.0           0.0           2.0         0.0   \n",
       "3015          0.0          0.0           0.0           0.0         0.0   \n",
       "17200        11.0         34.0          22.0          64.0         6.0   \n",
       "7896          2.0          5.0           2.0          21.0         0.0   \n",
       "\n",
       "       F: Unknown  Male 0-4  Male 5-11  Male 5-17  Male 18-59  Male 60+  \\\n",
       "2694          0.0      18.0        0.0       77.0       132.0       2.0   \n",
       "11465         0.0       0.0        1.0       44.0         5.0       0.0   \n",
       "3015          0.0       0.0        0.0        0.0         3.0       0.0   \n",
       "17200         0.0      13.0       55.0       44.0        33.0      12.0   \n",
       "7896          0.0       3.0        7.0       44.0        48.0       0.0   \n",
       "\n",
       "       M: Unknown  \n",
       "2694          0.0  \n",
       "11465         0.0  \n",
       "3015          0.0  \n",
       "17200         0.0  \n",
       "7896          0.0  "
      ]
     },
     "execution_count": 200,
     "metadata": {},
     "output_type": "execute_result"
    }
   ],
   "source": [
    "x_test.tail()"
   ]
  },
  {
   "cell_type": "code",
   "execution_count": 208,
   "metadata": {},
   "outputs": [
    {
     "data": {
      "text/plain": [
       "10209       29.0\n",
       "17345      704.0\n",
       "13461        2.0\n",
       "7018         3.0\n",
       "2475     13279.0\n",
       "Name: Total Population, dtype: float64"
      ]
     },
     "execution_count": 208,
     "metadata": {},
     "output_type": "execute_result"
    }
   ],
   "source": [
    "y_test.head()"
   ]
  },
  {
   "cell_type": "code",
   "execution_count": 201,
   "metadata": {},
   "outputs": [
    {
     "data": {
      "text/plain": [
       "2694     466.0\n",
       "11465      8.0\n",
       "3015       3.0\n",
       "17200    266.0\n",
       "7896      90.0\n",
       "Name: Total Population, dtype: float64"
      ]
     },
     "execution_count": 201,
     "metadata": {},
     "output_type": "execute_result"
    }
   ],
   "source": [
    "y_test.tail()"
   ]
  },
  {
   "cell_type": "markdown",
   "metadata": {},
   "source": [
    "### Standardizing the data using standardscaler"
   ]
  },
  {
   "cell_type": "code",
   "execution_count": 174,
   "metadata": {},
   "outputs": [],
   "source": [
    "from sklearn.preprocessing import StandardScaler"
   ]
  },
  {
   "cell_type": "code",
   "execution_count": 175,
   "metadata": {},
   "outputs": [],
   "source": [
    "scaler = StandardScaler()"
   ]
  },
  {
   "cell_type": "code",
   "execution_count": 176,
   "metadata": {},
   "outputs": [],
   "source": [
    "x_train_scaled =scaler.fit_transform(x_train)\n",
    "x_test_scaled = scaler.transform(x_test)"
   ]
  },
  {
   "cell_type": "code",
   "execution_count": 177,
   "metadata": {},
   "outputs": [
    {
     "data": {
      "text/plain": [
       "Text(0.5, 1.0, 'x_train after scaling')"
      ]
     },
     "execution_count": 177,
     "metadata": {},
     "output_type": "execute_result"
    },
    {
     "data": {
      "image/png": "[encoded data removed]",
      "text/plain": [
       "<Figure size 1500x500 with 3 Axes>"
      ]
     },
     "metadata": {},
     "output_type": "display_data"
    }
   ],
   "source": [
    "### boxplots to understand effect of standard scaler\n",
    "\n",
    "plt.subplots(figsize=(15,5))\n",
    "plt.subplot(1,2,1)\n",
    "sns.boxplot(data=x_train)\n",
    "plt.title('x_train before scaling')\n",
    "plt.subplot(1,2,2)\n",
    "sns.boxplot(data=x_train_scaled)\n",
    "plt.title('x_train after scaling')"
   ]
  },
  {
   "cell_type": "code",
   "execution_count": 178,
   "metadata": {},
   "outputs": [
    {
     "data": {
      "text/plain": [
       "Text(0.5, 1.0, 'x_train after scaling')"
      ]
     },
     "execution_count": 178,
     "metadata": {},
     "output_type": "execute_result"
    },
    {
     "data": {
      "image/png": "[encoded data removed]",
      "text/plain": [
       "<Figure size 1500x500 with 3 Axes>"
      ]
     },
     "metadata": {},
     "output_type": "display_data"
    }
   ],
   "source": [
    "### boxplots to understand effect of standard scaler\n",
    "\n",
    "plt.subplots(figsize=(15,5))\n",
    "plt.subplot(1,2,1)\n",
    "sns.boxplot(data=x_test)\n",
    "plt.title('x_train before scaling')\n",
    "plt.subplot(1,2,2)\n",
    "sns.boxplot(data=x_test_scaled)\n",
    "plt.title('x_train after scaling')"
   ]
  },
  {
   "cell_type": "markdown",
   "metadata": {},
   "source": [
    "### Doing the regression"
   ]
  },
  {
   "cell_type": "code",
   "execution_count": 179,
   "metadata": {},
   "outputs": [],
   "source": [
    "from sklearn.linear_model import LinearRegression"
   ]
  },
  {
   "cell_type": "code",
   "execution_count": 180,
   "metadata": {},
   "outputs": [],
   "source": [
    "regression=LinearRegression()"
   ]
  },
  {
   "cell_type": "code",
   "execution_count": 181,
   "metadata": {},
   "outputs": [],
   "source": [
    "regression.fit(x_train_scaled,y_train)\n",
    "y_predicted = regression.predict(x_test_scaled)"
   ]
  },
  {
   "cell_type": "code",
   "execution_count": 182,
   "metadata": {},
   "outputs": [],
   "source": [
    "from sklearn.metrics import mean_absolute_error, mean_squared_error, r2_score"
   ]
  },
  {
   "cell_type": "code",
   "execution_count": 183,
   "metadata": {},
   "outputs": [
    {
     "name": "stdout",
     "output_type": "stream",
     "text": [
      "0.9999748003359833\n",
      "142.36504661991393\n",
      "503909.57477386\n"
     ]
    }
   ],
   "source": [
    "accuracy = r2_score(y_test, y_predicted)\n",
    "mae=mean_absolute_error(y_test, y_predicted)\n",
    "mse=mean_squared_error(y_test, y_predicted)\n",
    "print(accuracy)\n",
    "print(mae)\n",
    "print(mse)"
   ]
  },
  {
   "cell_type": "code",
   "execution_count": 184,
   "metadata": {},
   "outputs": [],
   "source": [
    "import pickle"
   ]
  },
  {
   "cell_type": "code",
   "execution_count": 185,
   "metadata": {},
   "outputs": [],
   "source": [
    "with open('demographics.pkl', 'wb') as file:\n",
    "    pickle.dump(regression, file)"
   ]
  },
  {
   "cell_type": "code",
   "execution_count": 186,
   "metadata": {},
   "outputs": [
    {
     "name": "stdout",
     "output_type": "stream",
     "text": [
      "Predicted Value: 711.8873750806688\n"
     ]
    }
   ],
   "source": [
    "# Load the model from the file\n",
    "with open('demographics.pkl', 'rb') as file:\n",
    "    loaded_model = pickle.load(file)\n",
    "\n",
    "# Create your test data\n",
    "test_data = {\n",
    "    'Female 0-4': [102.0],\n",
    "    'Female 5-11': [54.0],\n",
    "    'Female 12-17': [35.0],\n",
    "    'Female 18-59': [116.0],\n",
    "    'Female 60+': [5.0],\n",
    "    'F: Unknown': [0.0],\n",
    "    'Male 0-4': [97.0],\n",
    "    'Male 5-11': [64.0],\n",
    "    'Male 5-17': [44.0],\n",
    "    'Male 18-59': [178.0],\n",
    "    'Male 60+': [10.0],\n",
    "    'M: Unknown': [0.0]\n",
    "}\n",
    "\n",
    "# Create DataFrame\n",
    "test_df = pd.DataFrame(test_data)\n",
    "\n",
    "# Standardize the test data using the same scaler used for training\n",
    "x_data_1_model_testing_after_training = scaler.transform(test_df)  # Ensure 'scaler' is the same as used for training\n",
    "\n",
    "# Make predictions\n",
    "predictions = loaded_model.predict(x_data_1_model_testing_after_training)\n",
    "\n",
    "# Display the predicted value\n",
    "print(f\"Predicted Value: {predictions[0]}\")\n"
   ]
  },
  {
   "cell_type": "code",
   "execution_count": 187,
   "metadata": {},
   "outputs": [
    {
     "name": "stdout",
     "output_type": "stream",
     "text": [
      "Predicted Value: 12770.35983626004\n"
     ]
    }
   ],
   "source": [
    "# Load the model from the file\n",
    "with open('demographics.pkl', 'rb') as file:\n",
    "    loaded_model = pickle.load(file)\n",
    "\n",
    "# Create your test data\n",
    "test_data = {\n",
    "    'Female 0-4': [0.0],\n",
    "    'Female 5-11': [0.0],\n",
    "    'Female 12-17': [0.0],\n",
    "    'Female 18-59': [3124.0],\n",
    "    'Female 60+': [371.0],\n",
    "    'F: Unknown': [0.0],\n",
    "    'Male 0-4': [333.0],\n",
    "    'Male 5-11': [0.0],\n",
    "    'Male 5-17': [2749.0],\n",
    "    'Male 18-59': [3424.0],\n",
    "    'Male 60+': [304.0],\n",
    "    'M: Unknown': [0.0]\n",
    "}\n",
    "\n",
    "# Create DataFrame\n",
    "test_df = pd.DataFrame(test_data)\n",
    "\n",
    "# Standardize the test data using the same scaler used for training\n",
    "x_data_2_model_testing_after_training = scaler.transform(test_df)  # Ensure 'scaler' is the same as used for training\n",
    "\n",
    "# Make predictions\n",
    "predictions = loaded_model.predict(x_data_2_model_testing_after_training)\n",
    "\n",
    "# Display the predicted value\n",
    "print(f\"Predicted Value: {predictions[0]}\")\n"
   ]
  },
  {
   "cell_type": "markdown",
   "metadata": {},
   "source": [
    "### Decission Tree Regression"
   ]
  },
  {
   "cell_type": "code",
   "execution_count": 190,
   "metadata": {},
   "outputs": [
    {
     "name": "stdout",
     "output_type": "stream",
     "text": [
      "0.9387697677307991\n",
      "1609.3595808358598\n",
      "1224401257.317095\n"
     ]
    }
   ],
   "source": [
    "from sklearn.tree import DecisionTreeRegressor\n",
    "\n",
    "# Initializing and training the Decision Tree model\n",
    "dt_model = DecisionTreeRegressor(random_state=42)\n",
    "dt_model.fit(x_train_scaled, y_train)\n",
    "\n",
    "# Making predictions\n",
    "dt_predictions = dt_model.predict(x_test_scaled)\n",
    "\n",
    "# Evaluating the model\n",
    "dt_mae=mean_absolute_error(y_test,dt_predictions)\n",
    "dt_accuracy=r2_score(y_test,dt_predictions)\n",
    "dt_mse = mean_squared_error(y_test, dt_predictions)\n",
    "print(dt_accuracy)\n",
    "print(dt_mae)\n",
    "print(dt_mse)\n"
   ]
  },
  {
   "cell_type": "code",
   "execution_count": 191,
   "metadata": {},
   "outputs": [],
   "source": [
    "with open('demographics_decission_tree.pkl', 'wb') as file:\n",
    "    pickle.dump(dt_model, file)"
   ]
  },
  {
   "cell_type": "code",
   "execution_count": 199,
   "metadata": {},
   "outputs": [
    {
     "name": "stdout",
     "output_type": "stream",
     "text": [
      "Predicted Value: 725.0\n"
     ]
    }
   ],
   "source": [
    "# Load the model from the file\n",
    "with open('demographics_decission_tree.pkl', 'rb') as file:\n",
    "    loaded_model = pickle.load(file)\n",
    "\n",
    "# Create your test data\n",
    "test_data = {\n",
    "    'Female 0-4': [102.0],\n",
    "    'Female 5-11': [54.0],\n",
    "    'Female 12-17': [35.0],\n",
    "    'Female 18-59': [116.0],\n",
    "    'Female 60+': [5.0],\n",
    "    'F: Unknown': [0.0],\n",
    "    'Male 0-4': [97.0],\n",
    "    'Male 5-11': [64.0],\n",
    "    'Male 5-17': [44.0],\n",
    "    'Male 18-59': [178.0],\n",
    "    'Male 60+': [10.0],\n",
    "    'M: Unknown': [0.0]\n",
    "}\n",
    "\n",
    "# Create DataFrame\n",
    "test_df = pd.DataFrame(test_data)\n",
    "\n",
    "# Standardize the test data using the same scaler used for training\n",
    "x_data_1_model_testing_after_training = scaler.transform(test_df)  # Ensure 'scaler' is the same as used for training\n",
    "\n",
    "# Make predictions\n",
    "predictions = loaded_model.predict(x_data_1_model_testing_after_training)\n",
    "\n",
    "# Display the predicted value\n",
    "print(f\"Predicted Value: {predictions[0]}\")\n"
   ]
  },
  {
   "cell_type": "code",
   "execution_count": 198,
   "metadata": {},
   "outputs": [
    {
     "name": "stdout",
     "output_type": "stream",
     "text": [
      "Predicted Value: 13271.0\n"
     ]
    }
   ],
   "source": [
    "# Load the model from the file\n",
    "with open('demographics_decission_tree.pkl', 'rb') as file:\n",
    "    loaded_model = pickle.load(file)\n",
    "\n",
    "# Create your test data\n",
    "test_data = {\n",
    "    'Female 0-4': [296.0],\n",
    "    'Female 5-11': [0.0],\n",
    "    'Female 12-17': [0.0],\n",
    "    'Female 18-59': [3124.0],\n",
    "    'Female 60+': [371.0],\n",
    "    'F: Unknown': [0.0],\n",
    "    'Male 0-4': [333.0],\n",
    "    'Male 5-11': [0.0],\n",
    "    'Male 5-17': [2749.0],\n",
    "    'Male 18-59': [3424.0],\n",
    "    'Male 60+': [304.0],\n",
    "    'M: Unknown': [0.0]\n",
    "}\n",
    "\n",
    "# Create DataFrame\n",
    "test_df = pd.DataFrame(test_data)\n",
    "\n",
    "# Standardize the test data using the same scaler used for training\n",
    "x_data_2_model_testing_after_training = scaler.transform(test_df)  # Ensure 'scaler' is the same as used for training\n",
    "\n",
    "# Make predictions\n",
    "predictions = loaded_model.predict(x_data_2_model_testing_after_training)\n",
    "\n",
    "# Display the predicted value\n",
    "print(f\"Predicted Value: {predictions[0]}\")\n"
   ]
  },
  {
   "cell_type": "code",
   "execution_count": 202,
   "metadata": {},
   "outputs": [
    {
     "name": "stdout",
     "output_type": "stream",
     "text": [
      "Predicted Value: 486.0\n"
     ]
    }
   ],
   "source": [
    "# Load the model from the file\n",
    "with open('demographics_decission_tree.pkl', 'rb') as file:\n",
    "    loaded_model = pickle.load(file)\n",
    "\n",
    "# Create your test data\n",
    "test_data = {\n",
    "    'Female 0-4': [22.0],\n",
    "    'Female 5-11': [0.0],\n",
    "    'Female 12-17': [0.0],\n",
    "    'Female 18-59': [111.0],\n",
    "    'Female 60+': [5.0],\n",
    "    'F: Unknown': [0.0],\n",
    "    'Male 0-4': [18.0],\n",
    "    'Male 5-11': [0.0],\n",
    "    'Male 5-17': [77.0],\n",
    "    'Male 18-59': [132.0],\n",
    "    'Male 60+': [2.0],\n",
    "    'M: Unknown': [0.0]\n",
    "}\n",
    "\n",
    "# Create DataFrame\n",
    "test_df = pd.DataFrame(test_data)\n",
    "\n",
    "# Standardize the test data using the same scaler used for training\n",
    "x_data_2_model_testing_after_training = scaler.transform(test_df)  # Ensure 'scaler' is the same as used for training\n",
    "\n",
    "# Make predictions\n",
    "predictions = loaded_model.predict(x_data_2_model_testing_after_training)\n",
    "\n",
    "# Display the predicted value\n",
    "print(f\"Predicted Value: {predictions[0]}\")\n"
   ]
  },
  {
   "cell_type": "markdown",
   "metadata": {},
   "source": [
    "### Random Forest Regression"
   ]
  },
  {
   "cell_type": "code",
   "execution_count": 205,
   "metadata": {},
   "outputs": [
    {
     "name": "stdout",
     "output_type": "stream",
     "text": [
      "0.9850746353948879\n",
      "1143.8511882959729\n",
      "298457714.6150648\n"
     ]
    }
   ],
   "source": [
    "from sklearn.ensemble import RandomForestRegressor\n",
    "\n",
    "# Initializing and training the Random Forest model\n",
    "rf_model = RandomForestRegressor(random_state=42)\n",
    "rf_model.fit(x_train_scaled, y_train)\n",
    "\n",
    "# Making predictions\n",
    "rf_predictions = rf_model.predict(x_test_scaled)\n",
    "\n",
    "# Evaluating the model\n",
    "rf_mse = mean_squared_error(y_test, rf_predictions)\n",
    "rf_mae= mean_absolute_error(y_test,rf_predictions)\n",
    "rf_accuracy=r2_score(y_test,rf_predictions)\n",
    "print(rf_accuracy)\n",
    "print(rf_mae)\n",
    "print(rf_mse)\n"
   ]
  },
  {
   "cell_type": "code",
   "execution_count": 206,
   "metadata": {},
   "outputs": [],
   "source": [
    "with open('demographics_random_forest.pkl', 'wb') as file:\n",
    "    pickle.dump(rf_model, file)"
   ]
  },
  {
   "cell_type": "code",
   "execution_count": 213,
   "metadata": {},
   "outputs": [
    {
     "name": "stdout",
     "output_type": "stream",
     "text": [
      "Predicted Value: 722.3\n"
     ]
    }
   ],
   "source": [
    "# Load the model from the file\n",
    "with open('demographics_random_forest.pkl', 'rb') as file:\n",
    "    loaded_model = pickle.load(file)\n",
    "\n",
    "# Create your test data\n",
    "test_data = {\n",
    "    'Female 0-4': [102.0],\n",
    "    'Female 5-11': [54.0],\n",
    "    'Female 12-17': [35.0],\n",
    "    'Female 18-59': [116.0],\n",
    "    'Female 60+': [5.0],\n",
    "    'F: Unknown': [0.0],\n",
    "    'Male 0-4': [97.0],\n",
    "    'Male 5-11': [64.0],\n",
    "    'Male 5-17': [44.0],\n",
    "    'Male 18-59': [178.0],\n",
    "    'Male 60+': [10.0],\n",
    "    'M: Unknown': [0.0]\n",
    "}\n",
    "\n",
    "# Create DataFrame\n",
    "test_df = pd.DataFrame(test_data)\n",
    "\n",
    "# Standardize the test data using the same scaler used for training\n",
    "x_data_1_model_testing_after_training = scaler.transform(test_df)  # Ensure 'scaler' is the same as used for training\n",
    "\n",
    "# Make predictions\n",
    "predictions = loaded_model.predict(x_data_1_model_testing_after_training)\n",
    "\n",
    "# Display the predicted value\n",
    "print(f\"Predicted Value: {predictions[0]}\")\n"
   ]
  },
  {
   "cell_type": "code",
   "execution_count": 214,
   "metadata": {},
   "outputs": [
    {
     "name": "stdout",
     "output_type": "stream",
     "text": [
      "Predicted Value: 13141.53\n"
     ]
    }
   ],
   "source": [
    "# Load the model from the file\n",
    "with open('demographics_random_forest.pkl', 'rb') as file:\n",
    "    loaded_model = pickle.load(file)\n",
    "\n",
    "# Create your test data\n",
    "test_data = {\n",
    "    'Female 0-4': [296.0],\n",
    "    'Female 5-11': [0.0],\n",
    "    'Female 12-17': [0.0],\n",
    "    'Female 18-59': [3124.0],\n",
    "    'Female 60+': [371.0],\n",
    "    'F: Unknown': [0.0],\n",
    "    'Male 0-4': [333.0],\n",
    "    'Male 5-11': [0.0],\n",
    "    'Male 5-17': [2749.0],\n",
    "    'Male 18-59': [3424.0],\n",
    "    'Male 60+': [304.0],\n",
    "    'M: Unknown': [0.0]\n",
    "}\n",
    "\n",
    "# Create DataFrame\n",
    "test_df = pd.DataFrame(test_data)\n",
    "\n",
    "# Standardize the test data using the same scaler used for training\n",
    "x_data_2_model_testing_after_training = scaler.transform(test_df)  # Ensure 'scaler' is the same as used for training\n",
    "\n",
    "# Make predictions\n",
    "predictions = loaded_model.predict(x_data_2_model_testing_after_training)\n",
    "\n",
    "# Display the predicted value\n",
    "print(f\"Predicted Value: {predictions[0]}\")\n"
   ]
  },
  {
   "cell_type": "markdown",
   "metadata": {},
   "source": [
    "### XGBoost Regression"
   ]
  },
  {
   "cell_type": "code",
   "execution_count": 211,
   "metadata": {},
   "outputs": [
    {
     "name": "stdout",
     "output_type": "stream",
     "text": [
      "0.9551883345193266\n",
      "1721.7499018368324\n",
      "896084458.9937682\n"
     ]
    }
   ],
   "source": [
    "import xgboost as xgb\n",
    "\n",
    "# Initializing and training the XGBoost model\n",
    "xgb_model = xgb.XGBRegressor(random_state=42)\n",
    "xgb_model.fit(x_train_scaled, y_train)\n",
    "\n",
    "# Making predictions\n",
    "xgb_predictions = xgb_model.predict(x_test_scaled)\n",
    "\n",
    "# Evaluating the model\n",
    "xgb_mse = mean_squared_error(y_test, xgb_predictions)\n",
    "xgb_mae=mean_absolute_error(y_test,xgb_predictions)\n",
    "xgb_accuracy = r2_score(y_test,xgb_predictions)\n",
    "print(xgb_accuracy)\n",
    "print(xgb_mae)\n",
    "print(xgb_mse)\n"
   ]
  },
  {
   "cell_type": "code",
   "execution_count": 212,
   "metadata": {},
   "outputs": [],
   "source": [
    "with open('demographics_xgboost.pkl', 'wb') as file:\n",
    "    pickle.dump(rf_model, file)"
   ]
  },
  {
   "cell_type": "code",
   "execution_count": 215,
   "metadata": {},
   "outputs": [
    {
     "name": "stdout",
     "output_type": "stream",
     "text": [
      "Predicted Value: 722.3\n"
     ]
    }
   ],
   "source": [
    "# Load the model from the file\n",
    "with open('demographics_xgboost.pkl', 'rb') as file:\n",
    "    loaded_model = pickle.load(file)\n",
    "\n",
    "# Create your test data\n",
    "test_data = {\n",
    "    'Female 0-4': [102.0],\n",
    "    'Female 5-11': [54.0],\n",
    "    'Female 12-17': [35.0],\n",
    "    'Female 18-59': [116.0],\n",
    "    'Female 60+': [5.0],\n",
    "    'F: Unknown': [0.0],\n",
    "    'Male 0-4': [97.0],\n",
    "    'Male 5-11': [64.0],\n",
    "    'Male 5-17': [44.0],\n",
    "    'Male 18-59': [178.0],\n",
    "    'Male 60+': [10.0],\n",
    "    'M: Unknown': [0.0]\n",
    "}\n",
    "\n",
    "# Create DataFrame\n",
    "test_df = pd.DataFrame(test_data)\n",
    "\n",
    "# Standardize the test data using the same scaler used for training\n",
    "x_data_1_model_testing_after_training = scaler.transform(test_df)  # Ensure 'scaler' is the same as used for training\n",
    "\n",
    "# Make predictions\n",
    "predictions = loaded_model.predict(x_data_1_model_testing_after_training)\n",
    "\n",
    "# Display the predicted value\n",
    "print(f\"Predicted Value: {predictions[0]}\")\n"
   ]
  },
  {
   "cell_type": "code",
   "execution_count": 216,
   "metadata": {},
   "outputs": [
    {
     "name": "stdout",
     "output_type": "stream",
     "text": [
      "Predicted Value: 13141.53\n"
     ]
    }
   ],
   "source": [
    "# Load the model from the file\n",
    "with open('demographics_xgboost.pkl', 'rb') as file:\n",
    "    loaded_model = pickle.load(file)\n",
    "\n",
    "# Create your test data\n",
    "test_data = {\n",
    "    'Female 0-4': [296.0],\n",
    "    'Female 5-11': [0.0],\n",
    "    'Female 12-17': [0.0],\n",
    "    'Female 18-59': [3124.0],\n",
    "    'Female 60+': [371.0],\n",
    "    'F: Unknown': [0.0],\n",
    "    'Male 0-4': [333.0],\n",
    "    'Male 5-11': [0.0],\n",
    "    'Male 5-17': [2749.0],\n",
    "    'Male 18-59': [3424.0],\n",
    "    'Male 60+': [304.0],\n",
    "    'M: Unknown': [0.0]\n",
    "}\n",
    "\n",
    "# Create DataFrame\n",
    "test_df = pd.DataFrame(test_data)\n",
    "\n",
    "# Standardize the test data using the same scaler used for training\n",
    "x_data_2_model_testing_after_training = scaler.transform(test_df)  # Ensure 'scaler' is the same as used for training\n",
    "\n",
    "# Make predictions\n",
    "predictions = loaded_model.predict(x_data_2_model_testing_after_training)\n",
    "\n",
    "# Display the predicted value\n",
    "print(f\"Predicted Value: {predictions[0]}\")\n"
   ]
  }
 ],
 "metadata": {
  "kernelspec": {
   "display_name": "base",
   "language": "python",
   "name": "python3"
  },
  "language_info": {
   "codemirror_mode": {
    "name": "ipython",
    "version": 3
   },
   "file_extension": ".py",
   "mimetype": "text/x-python",
   "name": "python",
   "nbconvert_exporter": "python",
   "pygments_lexer": "ipython3",
   "version": "3.12.4"
  }
 },
 "nbformat": 4,
 "nbformat_minor": 2
}
