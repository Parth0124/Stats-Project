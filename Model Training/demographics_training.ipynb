{
 "cells": [
  {
   "cell_type": "markdown",
   "metadata": {},
   "source": [
    "## Training the model using cleaned_demographics.csv dataset"
   ]
  },
  {
   "cell_type": "code",
   "execution_count": 1,
   "metadata": {},
   "outputs": [],
   "source": [
    "import pandas as pd\n",
    "import numpy as np\n",
    "import matplotlib.pyplot as plt\n",
    "import seaborn as sns\n",
    "%matplotlib inline"
   ]
  },
  {
   "cell_type": "code",
   "execution_count": 2,
   "metadata": {},
   "outputs": [
    {
     "data": {
      "text/html": [
       "<div>\n",
       "<style scoped>\n",
       "    .dataframe tbody tr th:only-of-type {\n",
       "        vertical-align: middle;\n",
       "    }\n",
       "\n",
       "    .dataframe tbody tr th {\n",
       "        vertical-align: top;\n",
       "    }\n",
       "\n",
       "    .dataframe thead th {\n",
       "        text-align: right;\n",
       "    }\n",
       "</style>\n",
       "<table border=\"1\" class=\"dataframe\">\n",
       "  <thead>\n",
       "    <tr style=\"text-align: right;\">\n",
       "      <th></th>\n",
       "      <th>Year</th>\n",
       "      <th>Territory of asylum or residence</th>\n",
       "      <th>Location Name</th>\n",
       "      <th>Female 0-4</th>\n",
       "      <th>Female 5-11</th>\n",
       "      <th>Female 12-17</th>\n",
       "      <th>Female 18-59</th>\n",
       "      <th>Female 60+</th>\n",
       "      <th>F: Unknown</th>\n",
       "      <th>F: Total</th>\n",
       "      <th>Male 0-4</th>\n",
       "      <th>Male 5-11</th>\n",
       "      <th>Male 5-17</th>\n",
       "      <th>Male 18-59</th>\n",
       "      <th>Male 60+</th>\n",
       "      <th>M: Unknown</th>\n",
       "      <th>M: Total</th>\n",
       "    </tr>\n",
       "  </thead>\n",
       "  <tbody>\n",
       "    <tr>\n",
       "      <th>0</th>\n",
       "      <td>2001</td>\n",
       "      <td>Afghanistan</td>\n",
       "      <td>Kabul</td>\n",
       "      <td>0.0</td>\n",
       "      <td>0.0</td>\n",
       "      <td>0.0</td>\n",
       "      <td>1.0</td>\n",
       "      <td>0.0</td>\n",
       "      <td>0.0</td>\n",
       "      <td>2.0</td>\n",
       "      <td>0.0</td>\n",
       "      <td>0.0</td>\n",
       "      <td>0.0</td>\n",
       "      <td>2.0</td>\n",
       "      <td>0.0</td>\n",
       "      <td>0.0</td>\n",
       "      <td>2.0</td>\n",
       "    </tr>\n",
       "    <tr>\n",
       "      <th>1</th>\n",
       "      <td>2001</td>\n",
       "      <td>Afghanistan</td>\n",
       "      <td>Various</td>\n",
       "      <td>14335.0</td>\n",
       "      <td>0.0</td>\n",
       "      <td>0.0</td>\n",
       "      <td>99880.0</td>\n",
       "      <td>19234.0</td>\n",
       "      <td>412004.0</td>\n",
       "      <td>590904.0</td>\n",
       "      <td>14716.0</td>\n",
       "      <td>0.0</td>\n",
       "      <td>47522.0</td>\n",
       "      <td>114965.0</td>\n",
       "      <td>13025.0</td>\n",
       "      <td>435492.0</td>\n",
       "      <td>625720.0</td>\n",
       "    </tr>\n",
       "    <tr>\n",
       "      <th>2</th>\n",
       "      <td>2001</td>\n",
       "      <td>Afghanistan</td>\n",
       "      <td>Herat</td>\n",
       "      <td>0.0</td>\n",
       "      <td>0.0</td>\n",
       "      <td>0.0</td>\n",
       "      <td>1.0</td>\n",
       "      <td>0.0</td>\n",
       "      <td>0.0</td>\n",
       "      <td>1.0</td>\n",
       "      <td>0.0</td>\n",
       "      <td>0.0</td>\n",
       "      <td>0.0</td>\n",
       "      <td>1.0</td>\n",
       "      <td>0.0</td>\n",
       "      <td>0.0</td>\n",
       "      <td>1.0</td>\n",
       "    </tr>\n",
       "    <tr>\n",
       "      <th>3</th>\n",
       "      <td>2001</td>\n",
       "      <td>Angola</td>\n",
       "      <td>Viana</td>\n",
       "      <td>484.0</td>\n",
       "      <td>0.0</td>\n",
       "      <td>0.0</td>\n",
       "      <td>1282.0</td>\n",
       "      <td>43.0</td>\n",
       "      <td>0.0</td>\n",
       "      <td>3496.0</td>\n",
       "      <td>597.0</td>\n",
       "      <td>0.0</td>\n",
       "      <td>1645.0</td>\n",
       "      <td>787.0</td>\n",
       "      <td>34.0</td>\n",
       "      <td>0.0</td>\n",
       "      <td>3063.0</td>\n",
       "    </tr>\n",
       "    <tr>\n",
       "      <th>4</th>\n",
       "      <td>2001</td>\n",
       "      <td>Angola</td>\n",
       "      <td>Moxico</td>\n",
       "      <td>219.0</td>\n",
       "      <td>0.0</td>\n",
       "      <td>0.0</td>\n",
       "      <td>427.0</td>\n",
       "      <td>25.0</td>\n",
       "      <td>0.0</td>\n",
       "      <td>1405.0</td>\n",
       "      <td>226.0</td>\n",
       "      <td>0.0</td>\n",
       "      <td>711.0</td>\n",
       "      <td>139.0</td>\n",
       "      <td>15.0</td>\n",
       "      <td>0.0</td>\n",
       "      <td>1091.0</td>\n",
       "    </tr>\n",
       "  </tbody>\n",
       "</table>\n",
       "</div>"
      ],
      "text/plain": [
       "   Year Territory of asylum or residence Location Name  Female 0-4  \\\n",
       "0  2001                      Afghanistan         Kabul         0.0   \n",
       "1  2001                      Afghanistan       Various     14335.0   \n",
       "2  2001                      Afghanistan         Herat         0.0   \n",
       "3  2001                           Angola         Viana       484.0   \n",
       "4  2001                           Angola        Moxico       219.0   \n",
       "\n",
       "   Female 5-11  Female 12-17  Female 18-59  Female 60+  F: Unknown  F: Total  \\\n",
       "0          0.0           0.0           1.0         0.0         0.0       2.0   \n",
       "1          0.0           0.0       99880.0     19234.0    412004.0  590904.0   \n",
       "2          0.0           0.0           1.0         0.0         0.0       1.0   \n",
       "3          0.0           0.0        1282.0        43.0         0.0    3496.0   \n",
       "4          0.0           0.0         427.0        25.0         0.0    1405.0   \n",
       "\n",
       "   Male 0-4  Male 5-11  Male 5-17  Male 18-59  Male 60+  M: Unknown  M: Total  \n",
       "0       0.0        0.0        0.0         2.0       0.0         0.0       2.0  \n",
       "1   14716.0        0.0    47522.0    114965.0   13025.0    435492.0  625720.0  \n",
       "2       0.0        0.0        0.0         1.0       0.0         0.0       1.0  \n",
       "3     597.0        0.0     1645.0       787.0      34.0         0.0    3063.0  \n",
       "4     226.0        0.0      711.0       139.0      15.0         0.0    1091.0  "
      ]
     },
     "execution_count": 2,
     "metadata": {},
     "output_type": "execute_result"
    }
   ],
   "source": [
    "df=pd.read_csv('../Stats Dataset Cleaned/cleaned_demographics.csv')\n",
    "df.head()"
   ]
  },
  {
   "cell_type": "code",
   "execution_count": 4,
   "metadata": {},
   "outputs": [],
   "source": [
    "### dropping the unecessary columns which are not numeric\n",
    "\n",
    "df.drop(columns=['Year', 'Territory of asylum or residence', 'Location Name'], axis=1, inplace=True)"
   ]
  },
  {
   "cell_type": "code",
   "execution_count": 5,
   "metadata": {},
   "outputs": [
    {
     "data": {
      "text/html": [
       "<div>\n",
       "<style scoped>\n",
       "    .dataframe tbody tr th:only-of-type {\n",
       "        vertical-align: middle;\n",
       "    }\n",
       "\n",
       "    .dataframe tbody tr th {\n",
       "        vertical-align: top;\n",
       "    }\n",
       "\n",
       "    .dataframe thead th {\n",
       "        text-align: right;\n",
       "    }\n",
       "</style>\n",
       "<table border=\"1\" class=\"dataframe\">\n",
       "  <thead>\n",
       "    <tr style=\"text-align: right;\">\n",
       "      <th></th>\n",
       "      <th>Female 0-4</th>\n",
       "      <th>Female 5-11</th>\n",
       "      <th>Female 12-17</th>\n",
       "      <th>Female 18-59</th>\n",
       "      <th>Female 60+</th>\n",
       "      <th>F: Unknown</th>\n",
       "      <th>F: Total</th>\n",
       "      <th>Male 0-4</th>\n",
       "      <th>Male 5-11</th>\n",
       "      <th>Male 5-17</th>\n",
       "      <th>Male 18-59</th>\n",
       "      <th>Male 60+</th>\n",
       "      <th>M: Unknown</th>\n",
       "      <th>M: Total</th>\n",
       "    </tr>\n",
       "  </thead>\n",
       "  <tbody>\n",
       "    <tr>\n",
       "      <th>0</th>\n",
       "      <td>0.0</td>\n",
       "      <td>0.0</td>\n",
       "      <td>0.0</td>\n",
       "      <td>1.0</td>\n",
       "      <td>0.0</td>\n",
       "      <td>0.0</td>\n",
       "      <td>2.0</td>\n",
       "      <td>0.0</td>\n",
       "      <td>0.0</td>\n",
       "      <td>0.0</td>\n",
       "      <td>2.0</td>\n",
       "      <td>0.0</td>\n",
       "      <td>0.0</td>\n",
       "      <td>2.0</td>\n",
       "    </tr>\n",
       "    <tr>\n",
       "      <th>1</th>\n",
       "      <td>14335.0</td>\n",
       "      <td>0.0</td>\n",
       "      <td>0.0</td>\n",
       "      <td>99880.0</td>\n",
       "      <td>19234.0</td>\n",
       "      <td>412004.0</td>\n",
       "      <td>590904.0</td>\n",
       "      <td>14716.0</td>\n",
       "      <td>0.0</td>\n",
       "      <td>47522.0</td>\n",
       "      <td>114965.0</td>\n",
       "      <td>13025.0</td>\n",
       "      <td>435492.0</td>\n",
       "      <td>625720.0</td>\n",
       "    </tr>\n",
       "    <tr>\n",
       "      <th>2</th>\n",
       "      <td>0.0</td>\n",
       "      <td>0.0</td>\n",
       "      <td>0.0</td>\n",
       "      <td>1.0</td>\n",
       "      <td>0.0</td>\n",
       "      <td>0.0</td>\n",
       "      <td>1.0</td>\n",
       "      <td>0.0</td>\n",
       "      <td>0.0</td>\n",
       "      <td>0.0</td>\n",
       "      <td>1.0</td>\n",
       "      <td>0.0</td>\n",
       "      <td>0.0</td>\n",
       "      <td>1.0</td>\n",
       "    </tr>\n",
       "    <tr>\n",
       "      <th>3</th>\n",
       "      <td>484.0</td>\n",
       "      <td>0.0</td>\n",
       "      <td>0.0</td>\n",
       "      <td>1282.0</td>\n",
       "      <td>43.0</td>\n",
       "      <td>0.0</td>\n",
       "      <td>3496.0</td>\n",
       "      <td>597.0</td>\n",
       "      <td>0.0</td>\n",
       "      <td>1645.0</td>\n",
       "      <td>787.0</td>\n",
       "      <td>34.0</td>\n",
       "      <td>0.0</td>\n",
       "      <td>3063.0</td>\n",
       "    </tr>\n",
       "    <tr>\n",
       "      <th>4</th>\n",
       "      <td>219.0</td>\n",
       "      <td>0.0</td>\n",
       "      <td>0.0</td>\n",
       "      <td>427.0</td>\n",
       "      <td>25.0</td>\n",
       "      <td>0.0</td>\n",
       "      <td>1405.0</td>\n",
       "      <td>226.0</td>\n",
       "      <td>0.0</td>\n",
       "      <td>711.0</td>\n",
       "      <td>139.0</td>\n",
       "      <td>15.0</td>\n",
       "      <td>0.0</td>\n",
       "      <td>1091.0</td>\n",
       "    </tr>\n",
       "  </tbody>\n",
       "</table>\n",
       "</div>"
      ],
      "text/plain": [
       "   Female 0-4  Female 5-11  Female 12-17  Female 18-59  Female 60+  \\\n",
       "0         0.0          0.0           0.0           1.0         0.0   \n",
       "1     14335.0          0.0           0.0       99880.0     19234.0   \n",
       "2         0.0          0.0           0.0           1.0         0.0   \n",
       "3       484.0          0.0           0.0        1282.0        43.0   \n",
       "4       219.0          0.0           0.0         427.0        25.0   \n",
       "\n",
       "   F: Unknown  F: Total  Male 0-4  Male 5-11  Male 5-17  Male 18-59  Male 60+  \\\n",
       "0         0.0       2.0       0.0        0.0        0.0         2.0       0.0   \n",
       "1    412004.0  590904.0   14716.0        0.0    47522.0    114965.0   13025.0   \n",
       "2         0.0       1.0       0.0        0.0        0.0         1.0       0.0   \n",
       "3         0.0    3496.0     597.0        0.0     1645.0       787.0      34.0   \n",
       "4         0.0    1405.0     226.0        0.0      711.0       139.0      15.0   \n",
       "\n",
       "   M: Unknown  M: Total  \n",
       "0         0.0       2.0  \n",
       "1    435492.0  625720.0  \n",
       "2         0.0       1.0  \n",
       "3         0.0    3063.0  \n",
       "4         0.0    1091.0  "
      ]
     },
     "execution_count": 5,
     "metadata": {},
     "output_type": "execute_result"
    }
   ],
   "source": [
    "df.head()"
   ]
  },
  {
   "cell_type": "code",
   "execution_count": 6,
   "metadata": {},
   "outputs": [
    {
     "data": {
      "text/plain": [
       "Index(['Female 0-4', 'Female 5-11', 'Female 12-17', 'Female 18-59',\n",
       "       'Female 60+', 'F: Unknown', 'F: Total', 'Male 0-4', 'Male 5-11',\n",
       "       'Male 5-17', 'Male 18-59', 'Male 60+', 'M: Unknown', 'M: Total'],\n",
       "      dtype='object')"
      ]
     },
     "execution_count": 6,
     "metadata": {},
     "output_type": "execute_result"
    }
   ],
   "source": [
    "df.columns"
   ]
  },
  {
   "cell_type": "code",
   "execution_count": 7,
   "metadata": {},
   "outputs": [],
   "source": [
    "### combining the total male and female population into one single output feature\n",
    "\n",
    "df['Total Population'] = pd.to_numeric(df['F: Total'], errors='coerce') + pd.to_numeric(df['M: Total'], errors='coerce')\n"
   ]
  },
  {
   "cell_type": "code",
   "execution_count": 8,
   "metadata": {},
   "outputs": [
    {
     "data": {
      "text/html": [
       "<div>\n",
       "<style scoped>\n",
       "    .dataframe tbody tr th:only-of-type {\n",
       "        vertical-align: middle;\n",
       "    }\n",
       "\n",
       "    .dataframe tbody tr th {\n",
       "        vertical-align: top;\n",
       "    }\n",
       "\n",
       "    .dataframe thead th {\n",
       "        text-align: right;\n",
       "    }\n",
       "</style>\n",
       "<table border=\"1\" class=\"dataframe\">\n",
       "  <thead>\n",
       "    <tr style=\"text-align: right;\">\n",
       "      <th></th>\n",
       "      <th>Female 0-4</th>\n",
       "      <th>Female 5-11</th>\n",
       "      <th>Female 12-17</th>\n",
       "      <th>Female 18-59</th>\n",
       "      <th>Female 60+</th>\n",
       "      <th>F: Unknown</th>\n",
       "      <th>F: Total</th>\n",
       "      <th>Male 0-4</th>\n",
       "      <th>Male 5-11</th>\n",
       "      <th>Male 5-17</th>\n",
       "      <th>Male 18-59</th>\n",
       "      <th>Male 60+</th>\n",
       "      <th>M: Unknown</th>\n",
       "      <th>M: Total</th>\n",
       "      <th>Total Population</th>\n",
       "    </tr>\n",
       "  </thead>\n",
       "  <tbody>\n",
       "    <tr>\n",
       "      <th>0</th>\n",
       "      <td>0.0</td>\n",
       "      <td>0.0</td>\n",
       "      <td>0.0</td>\n",
       "      <td>1.0</td>\n",
       "      <td>0.0</td>\n",
       "      <td>0.0</td>\n",
       "      <td>2.0</td>\n",
       "      <td>0.0</td>\n",
       "      <td>0.0</td>\n",
       "      <td>0.0</td>\n",
       "      <td>2.0</td>\n",
       "      <td>0.0</td>\n",
       "      <td>0.0</td>\n",
       "      <td>2.0</td>\n",
       "      <td>4.0</td>\n",
       "    </tr>\n",
       "    <tr>\n",
       "      <th>1</th>\n",
       "      <td>14335.0</td>\n",
       "      <td>0.0</td>\n",
       "      <td>0.0</td>\n",
       "      <td>99880.0</td>\n",
       "      <td>19234.0</td>\n",
       "      <td>412004.0</td>\n",
       "      <td>590904.0</td>\n",
       "      <td>14716.0</td>\n",
       "      <td>0.0</td>\n",
       "      <td>47522.0</td>\n",
       "      <td>114965.0</td>\n",
       "      <td>13025.0</td>\n",
       "      <td>435492.0</td>\n",
       "      <td>625720.0</td>\n",
       "      <td>1216624.0</td>\n",
       "    </tr>\n",
       "    <tr>\n",
       "      <th>2</th>\n",
       "      <td>0.0</td>\n",
       "      <td>0.0</td>\n",
       "      <td>0.0</td>\n",
       "      <td>1.0</td>\n",
       "      <td>0.0</td>\n",
       "      <td>0.0</td>\n",
       "      <td>1.0</td>\n",
       "      <td>0.0</td>\n",
       "      <td>0.0</td>\n",
       "      <td>0.0</td>\n",
       "      <td>1.0</td>\n",
       "      <td>0.0</td>\n",
       "      <td>0.0</td>\n",
       "      <td>1.0</td>\n",
       "      <td>2.0</td>\n",
       "    </tr>\n",
       "    <tr>\n",
       "      <th>3</th>\n",
       "      <td>484.0</td>\n",
       "      <td>0.0</td>\n",
       "      <td>0.0</td>\n",
       "      <td>1282.0</td>\n",
       "      <td>43.0</td>\n",
       "      <td>0.0</td>\n",
       "      <td>3496.0</td>\n",
       "      <td>597.0</td>\n",
       "      <td>0.0</td>\n",
       "      <td>1645.0</td>\n",
       "      <td>787.0</td>\n",
       "      <td>34.0</td>\n",
       "      <td>0.0</td>\n",
       "      <td>3063.0</td>\n",
       "      <td>6559.0</td>\n",
       "    </tr>\n",
       "    <tr>\n",
       "      <th>4</th>\n",
       "      <td>219.0</td>\n",
       "      <td>0.0</td>\n",
       "      <td>0.0</td>\n",
       "      <td>427.0</td>\n",
       "      <td>25.0</td>\n",
       "      <td>0.0</td>\n",
       "      <td>1405.0</td>\n",
       "      <td>226.0</td>\n",
       "      <td>0.0</td>\n",
       "      <td>711.0</td>\n",
       "      <td>139.0</td>\n",
       "      <td>15.0</td>\n",
       "      <td>0.0</td>\n",
       "      <td>1091.0</td>\n",
       "      <td>2496.0</td>\n",
       "    </tr>\n",
       "  </tbody>\n",
       "</table>\n",
       "</div>"
      ],
      "text/plain": [
       "   Female 0-4  Female 5-11  Female 12-17  Female 18-59  Female 60+  \\\n",
       "0         0.0          0.0           0.0           1.0         0.0   \n",
       "1     14335.0          0.0           0.0       99880.0     19234.0   \n",
       "2         0.0          0.0           0.0           1.0         0.0   \n",
       "3       484.0          0.0           0.0        1282.0        43.0   \n",
       "4       219.0          0.0           0.0         427.0        25.0   \n",
       "\n",
       "   F: Unknown  F: Total  Male 0-4  Male 5-11  Male 5-17  Male 18-59  Male 60+  \\\n",
       "0         0.0       2.0       0.0        0.0        0.0         2.0       0.0   \n",
       "1    412004.0  590904.0   14716.0        0.0    47522.0    114965.0   13025.0   \n",
       "2         0.0       1.0       0.0        0.0        0.0         1.0       0.0   \n",
       "3         0.0    3496.0     597.0        0.0     1645.0       787.0      34.0   \n",
       "4         0.0    1405.0     226.0        0.0      711.0       139.0      15.0   \n",
       "\n",
       "   M: Unknown  M: Total  Total Population  \n",
       "0         0.0       2.0               4.0  \n",
       "1    435492.0  625720.0         1216624.0  \n",
       "2         0.0       1.0               2.0  \n",
       "3         0.0    3063.0            6559.0  \n",
       "4         0.0    1091.0            2496.0  "
      ]
     },
     "execution_count": 8,
     "metadata": {},
     "output_type": "execute_result"
    }
   ],
   "source": [
    "df.head()"
   ]
  },
  {
   "cell_type": "code",
   "execution_count": 9,
   "metadata": {},
   "outputs": [
    {
     "data": {
      "text/html": [
       "<div>\n",
       "<style scoped>\n",
       "    .dataframe tbody tr th:only-of-type {\n",
       "        vertical-align: middle;\n",
       "    }\n",
       "\n",
       "    .dataframe tbody tr th {\n",
       "        vertical-align: top;\n",
       "    }\n",
       "\n",
       "    .dataframe thead th {\n",
       "        text-align: right;\n",
       "    }\n",
       "</style>\n",
       "<table border=\"1\" class=\"dataframe\">\n",
       "  <thead>\n",
       "    <tr style=\"text-align: right;\">\n",
       "      <th></th>\n",
       "      <th>Female 0-4</th>\n",
       "      <th>Female 5-11</th>\n",
       "      <th>Female 12-17</th>\n",
       "      <th>Female 18-59</th>\n",
       "      <th>Female 60+</th>\n",
       "      <th>F: Unknown</th>\n",
       "      <th>Male 0-4</th>\n",
       "      <th>Male 5-11</th>\n",
       "      <th>Male 5-17</th>\n",
       "      <th>Male 18-59</th>\n",
       "      <th>Male 60+</th>\n",
       "      <th>M: Unknown</th>\n",
       "      <th>Total Population</th>\n",
       "    </tr>\n",
       "  </thead>\n",
       "  <tbody>\n",
       "    <tr>\n",
       "      <th>0</th>\n",
       "      <td>0.0</td>\n",
       "      <td>0.0</td>\n",
       "      <td>0.0</td>\n",
       "      <td>1.0</td>\n",
       "      <td>0.0</td>\n",
       "      <td>0.0</td>\n",
       "      <td>0.0</td>\n",
       "      <td>0.0</td>\n",
       "      <td>0.0</td>\n",
       "      <td>2.0</td>\n",
       "      <td>0.0</td>\n",
       "      <td>0.0</td>\n",
       "      <td>4.0</td>\n",
       "    </tr>\n",
       "    <tr>\n",
       "      <th>1</th>\n",
       "      <td>14335.0</td>\n",
       "      <td>0.0</td>\n",
       "      <td>0.0</td>\n",
       "      <td>99880.0</td>\n",
       "      <td>19234.0</td>\n",
       "      <td>412004.0</td>\n",
       "      <td>14716.0</td>\n",
       "      <td>0.0</td>\n",
       "      <td>47522.0</td>\n",
       "      <td>114965.0</td>\n",
       "      <td>13025.0</td>\n",
       "      <td>435492.0</td>\n",
       "      <td>1216624.0</td>\n",
       "    </tr>\n",
       "    <tr>\n",
       "      <th>2</th>\n",
       "      <td>0.0</td>\n",
       "      <td>0.0</td>\n",
       "      <td>0.0</td>\n",
       "      <td>1.0</td>\n",
       "      <td>0.0</td>\n",
       "      <td>0.0</td>\n",
       "      <td>0.0</td>\n",
       "      <td>0.0</td>\n",
       "      <td>0.0</td>\n",
       "      <td>1.0</td>\n",
       "      <td>0.0</td>\n",
       "      <td>0.0</td>\n",
       "      <td>2.0</td>\n",
       "    </tr>\n",
       "    <tr>\n",
       "      <th>3</th>\n",
       "      <td>484.0</td>\n",
       "      <td>0.0</td>\n",
       "      <td>0.0</td>\n",
       "      <td>1282.0</td>\n",
       "      <td>43.0</td>\n",
       "      <td>0.0</td>\n",
       "      <td>597.0</td>\n",
       "      <td>0.0</td>\n",
       "      <td>1645.0</td>\n",
       "      <td>787.0</td>\n",
       "      <td>34.0</td>\n",
       "      <td>0.0</td>\n",
       "      <td>6559.0</td>\n",
       "    </tr>\n",
       "    <tr>\n",
       "      <th>4</th>\n",
       "      <td>219.0</td>\n",
       "      <td>0.0</td>\n",
       "      <td>0.0</td>\n",
       "      <td>427.0</td>\n",
       "      <td>25.0</td>\n",
       "      <td>0.0</td>\n",
       "      <td>226.0</td>\n",
       "      <td>0.0</td>\n",
       "      <td>711.0</td>\n",
       "      <td>139.0</td>\n",
       "      <td>15.0</td>\n",
       "      <td>0.0</td>\n",
       "      <td>2496.0</td>\n",
       "    </tr>\n",
       "  </tbody>\n",
       "</table>\n",
       "</div>"
      ],
      "text/plain": [
       "   Female 0-4  Female 5-11  Female 12-17  Female 18-59  Female 60+  \\\n",
       "0         0.0          0.0           0.0           1.0         0.0   \n",
       "1     14335.0          0.0           0.0       99880.0     19234.0   \n",
       "2         0.0          0.0           0.0           1.0         0.0   \n",
       "3       484.0          0.0           0.0        1282.0        43.0   \n",
       "4       219.0          0.0           0.0         427.0        25.0   \n",
       "\n",
       "   F: Unknown  Male 0-4  Male 5-11  Male 5-17  Male 18-59  Male 60+  \\\n",
       "0         0.0       0.0        0.0        0.0         2.0       0.0   \n",
       "1    412004.0   14716.0        0.0    47522.0    114965.0   13025.0   \n",
       "2         0.0       0.0        0.0        0.0         1.0       0.0   \n",
       "3         0.0     597.0        0.0     1645.0       787.0      34.0   \n",
       "4         0.0     226.0        0.0      711.0       139.0      15.0   \n",
       "\n",
       "   M: Unknown  Total Population  \n",
       "0         0.0               4.0  \n",
       "1    435492.0         1216624.0  \n",
       "2         0.0               2.0  \n",
       "3         0.0            6559.0  \n",
       "4         0.0            2496.0  "
      ]
     },
     "execution_count": 9,
     "metadata": {},
     "output_type": "execute_result"
    }
   ],
   "source": [
    "df.drop(columns=['F: Total', 'M: Total'], axis=1, inplace=True)\n",
    "df.head()"
   ]
  },
  {
   "cell_type": "markdown",
   "metadata": {},
   "source": [
    "### Now we have a dataset with only numeric features. Now we split the features into independent and dependent features as x and y respectively. "
   ]
  },
  {
   "cell_type": "code",
   "execution_count": 10,
   "metadata": {},
   "outputs": [],
   "source": [
    "x=df.drop('Total Population', axis=1)\n",
    "y=df['Total Population']"
   ]
  },
  {
   "cell_type": "code",
   "execution_count": 12,
   "metadata": {},
   "outputs": [
    {
     "data": {
      "text/html": [
       "<div>\n",
       "<style scoped>\n",
       "    .dataframe tbody tr th:only-of-type {\n",
       "        vertical-align: middle;\n",
       "    }\n",
       "\n",
       "    .dataframe tbody tr th {\n",
       "        vertical-align: top;\n",
       "    }\n",
       "\n",
       "    .dataframe thead th {\n",
       "        text-align: right;\n",
       "    }\n",
       "</style>\n",
       "<table border=\"1\" class=\"dataframe\">\n",
       "  <thead>\n",
       "    <tr style=\"text-align: right;\">\n",
       "      <th></th>\n",
       "      <th>Female 0-4</th>\n",
       "      <th>Female 5-11</th>\n",
       "      <th>Female 12-17</th>\n",
       "      <th>Female 18-59</th>\n",
       "      <th>Female 60+</th>\n",
       "      <th>F: Unknown</th>\n",
       "      <th>Male 0-4</th>\n",
       "      <th>Male 5-11</th>\n",
       "      <th>Male 5-17</th>\n",
       "      <th>Male 18-59</th>\n",
       "      <th>Male 60+</th>\n",
       "      <th>M: Unknown</th>\n",
       "    </tr>\n",
       "  </thead>\n",
       "  <tbody>\n",
       "    <tr>\n",
       "      <th>0</th>\n",
       "      <td>0.0</td>\n",
       "      <td>0.0</td>\n",
       "      <td>0.0</td>\n",
       "      <td>1.0</td>\n",
       "      <td>0.0</td>\n",
       "      <td>0.0</td>\n",
       "      <td>0.0</td>\n",
       "      <td>0.0</td>\n",
       "      <td>0.0</td>\n",
       "      <td>2.0</td>\n",
       "      <td>0.0</td>\n",
       "      <td>0.0</td>\n",
       "    </tr>\n",
       "    <tr>\n",
       "      <th>1</th>\n",
       "      <td>14335.0</td>\n",
       "      <td>0.0</td>\n",
       "      <td>0.0</td>\n",
       "      <td>99880.0</td>\n",
       "      <td>19234.0</td>\n",
       "      <td>412004.0</td>\n",
       "      <td>14716.0</td>\n",
       "      <td>0.0</td>\n",
       "      <td>47522.0</td>\n",
       "      <td>114965.0</td>\n",
       "      <td>13025.0</td>\n",
       "      <td>435492.0</td>\n",
       "    </tr>\n",
       "    <tr>\n",
       "      <th>2</th>\n",
       "      <td>0.0</td>\n",
       "      <td>0.0</td>\n",
       "      <td>0.0</td>\n",
       "      <td>1.0</td>\n",
       "      <td>0.0</td>\n",
       "      <td>0.0</td>\n",
       "      <td>0.0</td>\n",
       "      <td>0.0</td>\n",
       "      <td>0.0</td>\n",
       "      <td>1.0</td>\n",
       "      <td>0.0</td>\n",
       "      <td>0.0</td>\n",
       "    </tr>\n",
       "    <tr>\n",
       "      <th>3</th>\n",
       "      <td>484.0</td>\n",
       "      <td>0.0</td>\n",
       "      <td>0.0</td>\n",
       "      <td>1282.0</td>\n",
       "      <td>43.0</td>\n",
       "      <td>0.0</td>\n",
       "      <td>597.0</td>\n",
       "      <td>0.0</td>\n",
       "      <td>1645.0</td>\n",
       "      <td>787.0</td>\n",
       "      <td>34.0</td>\n",
       "      <td>0.0</td>\n",
       "    </tr>\n",
       "    <tr>\n",
       "      <th>4</th>\n",
       "      <td>219.0</td>\n",
       "      <td>0.0</td>\n",
       "      <td>0.0</td>\n",
       "      <td>427.0</td>\n",
       "      <td>25.0</td>\n",
       "      <td>0.0</td>\n",
       "      <td>226.0</td>\n",
       "      <td>0.0</td>\n",
       "      <td>711.0</td>\n",
       "      <td>139.0</td>\n",
       "      <td>15.0</td>\n",
       "      <td>0.0</td>\n",
       "    </tr>\n",
       "  </tbody>\n",
       "</table>\n",
       "</div>"
      ],
      "text/plain": [
       "   Female 0-4  Female 5-11  Female 12-17  Female 18-59  Female 60+  \\\n",
       "0         0.0          0.0           0.0           1.0         0.0   \n",
       "1     14335.0          0.0           0.0       99880.0     19234.0   \n",
       "2         0.0          0.0           0.0           1.0         0.0   \n",
       "3       484.0          0.0           0.0        1282.0        43.0   \n",
       "4       219.0          0.0           0.0         427.0        25.0   \n",
       "\n",
       "   F: Unknown  Male 0-4  Male 5-11  Male 5-17  Male 18-59  Male 60+  \\\n",
       "0         0.0       0.0        0.0        0.0         2.0       0.0   \n",
       "1    412004.0   14716.0        0.0    47522.0    114965.0   13025.0   \n",
       "2         0.0       0.0        0.0        0.0         1.0       0.0   \n",
       "3         0.0     597.0        0.0     1645.0       787.0      34.0   \n",
       "4         0.0     226.0        0.0      711.0       139.0      15.0   \n",
       "\n",
       "   M: Unknown  \n",
       "0         0.0  \n",
       "1    435492.0  \n",
       "2         0.0  \n",
       "3         0.0  \n",
       "4         0.0  "
      ]
     },
     "execution_count": 12,
     "metadata": {},
     "output_type": "execute_result"
    }
   ],
   "source": [
    "x.head()"
   ]
  },
  {
   "cell_type": "code",
   "execution_count": 13,
   "metadata": {},
   "outputs": [
    {
     "data": {
      "text/plain": [
       "0          4.0\n",
       "1    1216624.0\n",
       "2          2.0\n",
       "3       6559.0\n",
       "4       2496.0\n",
       "Name: Total Population, dtype: float64"
      ]
     },
     "execution_count": 13,
     "metadata": {},
     "output_type": "execute_result"
    }
   ],
   "source": [
    "y.head()"
   ]
  },
  {
   "cell_type": "markdown",
   "metadata": {},
   "source": [
    "### Train Test Split"
   ]
  },
  {
   "cell_type": "code",
   "execution_count": 14,
   "metadata": {},
   "outputs": [],
   "source": [
    "from sklearn.model_selection import train_test_split"
   ]
  },
  {
   "cell_type": "code",
   "execution_count": 16,
   "metadata": {},
   "outputs": [],
   "source": [
    "x_train,x_test,y_train,y_test=train_test_split(x,y,test_size=0.3,random_state=20)"
   ]
  },
  {
   "cell_type": "code",
   "execution_count": 17,
   "metadata": {},
   "outputs": [
    {
     "data": {
      "text/plain": [
       "((12848, 12), (5507, 12))"
      ]
     },
     "execution_count": 17,
     "metadata": {},
     "output_type": "execute_result"
    }
   ],
   "source": [
    "x_train.shape, x_test.shape"
   ]
  },
  {
   "cell_type": "code",
   "execution_count": 18,
   "metadata": {},
   "outputs": [],
   "source": [
    "### function to find out the values of correlation greater than threshold\n",
    "\n",
    "def correlation(dataset, threshold):\n",
    "    col_corr = set()\n",
    "    corr_matrix = dataset.corr()\n",
    "    for i in range (len(corr_matrix.columns)):\n",
    "        for j in range(i):\n",
    "            if abs(corr_matrix.iloc[i,j] > threshold):\n",
    "                colname = corr_matrix.columns[i]\n",
    "                col_corr.add(colname)\n",
    "    return col_corr"
   ]
  },
  {
   "cell_type": "code",
   "execution_count": 19,
   "metadata": {},
   "outputs": [],
   "source": [
    "corr_features=correlation(x_train, 0.70)"
   ]
  },
  {
   "cell_type": "code",
   "execution_count": 20,
   "metadata": {},
   "outputs": [],
   "source": [
    "### drop features above threshold\n",
    "\n",
    "x_train.drop(corr_features, axis=1, inplace=True)\n",
    "x_test.drop(corr_features, axis=1, inplace=True)"
   ]
  },
  {
   "cell_type": "code",
   "execution_count": 21,
   "metadata": {},
   "outputs": [
    {
     "data": {
      "text/plain": [
       "((12848, 3), (5507, 3))"
      ]
     },
     "execution_count": 21,
     "metadata": {},
     "output_type": "execute_result"
    }
   ],
   "source": [
    "x_train.shape, x_test.shape"
   ]
  },
  {
   "cell_type": "markdown",
   "metadata": {},
   "source": [
    "### Standardizing the data using standardscaler"
   ]
  },
  {
   "cell_type": "code",
   "execution_count": 22,
   "metadata": {},
   "outputs": [],
   "source": [
    "from sklearn.preprocessing import StandardScaler"
   ]
  },
  {
   "cell_type": "code",
   "execution_count": 23,
   "metadata": {},
   "outputs": [],
   "source": [
    "scaler = StandardScaler()"
   ]
  },
  {
   "cell_type": "code",
   "execution_count": 24,
   "metadata": {},
   "outputs": [],
   "source": [
    "x_train_scaled =scaler.fit_transform(x_train)\n",
    "x_test_scaled = scaler.transform(x_test)"
   ]
  },
  {
   "cell_type": "code",
   "execution_count": 25,
   "metadata": {},
   "outputs": [
    {
     "data": {
      "text/plain": [
       "Text(0.5, 1.0, 'x_train after scaling')"
      ]
     },
     "execution_count": 25,
     "metadata": {},
     "output_type": "execute_result"
    },
    {
     "data": {
      "image/png": "[encoded data removed]",
      "text/plain": [
       "<Figure size 1500x500 with 3 Axes>"
      ]
     },
     "metadata": {},
     "output_type": "display_data"
    }
   ],
   "source": [
    "### boxplots to understand effect of standard scaler\n",
    "\n",
    "plt.subplots(figsize=(15,5))\n",
    "plt.subplot(1,2,1)\n",
    "sns.boxplot(data=x_train)\n",
    "plt.title('x_train before scaling')\n",
    "plt.subplot(1,2,2)\n",
    "sns.boxplot(data=x_train_scaled)\n",
    "plt.title('x_train after scaling')"
   ]
  },
  {
   "cell_type": "code",
   "execution_count": 26,
   "metadata": {},
   "outputs": [
    {
     "data": {
      "text/plain": [
       "Text(0.5, 1.0, 'x_train after scaling')"
      ]
     },
     "execution_count": 26,
     "metadata": {},
     "output_type": "execute_result"
    },
    {
     "data": {
      "image/png": "[encoded data removed]",
      "text/plain": [
       "<Figure size 1500x500 with 3 Axes>"
      ]
     },
     "metadata": {},
     "output_type": "display_data"
    }
   ],
   "source": [
    "### boxplots to understand effect of standard scaler\n",
    "\n",
    "plt.subplots(figsize=(15,5))\n",
    "plt.subplot(1,2,1)\n",
    "sns.boxplot(data=x_test)\n",
    "plt.title('x_train before scaling')\n",
    "plt.subplot(1,2,2)\n",
    "sns.boxplot(data=x_test_scaled)\n",
    "plt.title('x_train after scaling')"
   ]
  },
  {
   "cell_type": "markdown",
   "metadata": {},
   "source": [
    "### Doing the regression"
   ]
  },
  {
   "cell_type": "code",
   "execution_count": 27,
   "metadata": {},
   "outputs": [],
   "source": [
    "from sklearn.linear_model import LinearRegression"
   ]
  },
  {
   "cell_type": "code",
   "execution_count": 28,
   "metadata": {},
   "outputs": [],
   "source": [
    "regression=LinearRegression()"
   ]
  },
  {
   "cell_type": "code",
   "execution_count": 30,
   "metadata": {},
   "outputs": [],
   "source": [
    "regression.fit(x_train_scaled,y_train)\n",
    "y_predicted = regression.predict(x_test_scaled)"
   ]
  },
  {
   "cell_type": "code",
   "execution_count": 31,
   "metadata": {},
   "outputs": [],
   "source": [
    "from sklearn.metrics import mean_absolute_error, mean_squared_error, r2_score"
   ]
  },
  {
   "cell_type": "code",
   "execution_count": 32,
   "metadata": {},
   "outputs": [
    {
     "name": "stdout",
     "output_type": "stream",
     "text": [
      "0.9582088378707041\n",
      "4988.650315310427\n",
      "835684425.1526853\n"
     ]
    }
   ],
   "source": [
    "accuracy = r2_score(y_test, y_predicted)\n",
    "mae=mean_absolute_error(y_test, y_predicted)\n",
    "mse=mean_squared_error(y_test, y_predicted)\n",
    "print(accuracy)\n",
    "print(mae)\n",
    "print(mse)"
   ]
  },
  {
   "cell_type": "code",
   "execution_count": null,
   "metadata": {},
   "outputs": [],
   "source": []
  }
 ],
 "metadata": {
  "kernelspec": {
   "display_name": "base",
   "language": "python",
   "name": "python3"
  },
  "language_info": {
   "codemirror_mode": {
    "name": "ipython",
    "version": 3
   },
   "file_extension": ".py",
   "mimetype": "text/x-python",
   "name": "python",
   "nbconvert_exporter": "python",
   "pygments_lexer": "ipython3",
   "version": "3.12.4"
  }
 },
 "nbformat": 4,
 "nbformat_minor": 2
}
